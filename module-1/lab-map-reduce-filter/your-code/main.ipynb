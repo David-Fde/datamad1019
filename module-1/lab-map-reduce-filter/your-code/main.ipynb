{
 "cells": [
  {
   "cell_type": "markdown",
   "metadata": {},
   "source": [
    "# Before your start:\n",
    "- Read the README.md file\n",
    "- Comment as much as you can and use the resources in the README.md file\n",
    "- Happy learning!"
   ]
  },
  {
   "cell_type": "code",
   "execution_count": 7,
   "metadata": {},
   "outputs": [],
   "source": [
    "# import reduce from functools, numpy and pandas\n",
    "\n",
    "from functools import reduce\n",
    "import numpy as np \n",
    "import pandas as pd\n",
    "import re"
   ]
  },
  {
   "cell_type": "markdown",
   "metadata": {},
   "source": [
    "# Challenge 1 - Mapping\n",
    "\n",
    "#### We will use the map function to clean up a words in a book.\n",
    "\n",
    "In the following cell, we will read a text file containing the book The Prophet by Khalil Gibran."
   ]
  },
  {
   "cell_type": "code",
   "execution_count": 8,
   "metadata": {},
   "outputs": [],
   "source": [
    "# Run this code:\n",
    "\n",
    "location = '58585-0.txt'\n",
    "with open(location, 'r', encoding=\"utf8\") as f:\n",
    "    prophet = f.read().split(' ')"
   ]
  },
  {
   "cell_type": "markdown",
   "metadata": {},
   "source": [
    "#### Let's remove the first 568 words since they contain information about the book but are not part of the book itself. \n",
    "\n",
    "Do this by removing from `prophet` elements 0 through 567 of the list (you can also do this by keeping elements 568 through the last element)."
   ]
  },
  {
   "cell_type": "code",
   "execution_count": 9,
   "metadata": {},
   "outputs": [],
   "source": [
    "# Your code here:\n",
    "\n",
    "x = lambda a,lista : lista[a:]\n",
    "new_prophet = x(568,prophet)\n"
   ]
  },
  {
   "cell_type": "markdown",
   "metadata": {},
   "source": [
    "If you look through the words, you will find that many words have a reference attached to them. For example, let's look at words 1 through 10."
   ]
  },
  {
   "cell_type": "code",
   "execution_count": 10,
   "metadata": {},
   "outputs": [
    {
     "name": "stdout",
     "output_type": "stream",
     "text": "['PROPHET\\n\\n|Almustafa,', 'the{7}', 'chosen', 'and', 'the\\nbeloved,', 'who', 'was', 'a', 'dawn', 'unto']\n"
    }
   ],
   "source": [
    "# Your code here:\n",
    "\n",
    "print(new_prophet[:10])\n"
   ]
  },
  {
   "cell_type": "markdown",
   "metadata": {},
   "source": [
    "#### The next step is to create a function that will remove references. \n",
    "\n",
    "We will do this by splitting the string on the `{` character and keeping only the part before this character. Write your function below."
   ]
  },
  {
   "cell_type": "code",
   "execution_count": 11,
   "metadata": {},
   "outputs": [],
   "source": [
    "def reference(x):\n",
    "    '''\n",
    "    Input: A string\n",
    "    Output: The string with references removed\n",
    "    \n",
    "    Example:\n",
    "    Input: 'the{7}'\n",
    "    Output: 'the'\n",
    "    '''\n",
    "    \n",
    "    # Your code here:\n",
    "    \n",
    "    return re.sub(r'\\{\\d+\\w+\\}','',x)    "
   ]
  },
  {
   "cell_type": "markdown",
   "metadata": {},
   "source": [
    "Now that we have our function, use the `map()` function to apply this function to our book, The Prophet. Return the resulting list to a new list called `prophet_reference`"
   ]
  },
  {
   "cell_type": "code",
   "execution_count": 12,
   "metadata": {},
   "outputs": [
    {
     "name": "stdout",
     "output_type": "stream",
     "text": "henever', 'any', 'copy', 'of', 'a', 'Project', 'Gutenberg-tm', 'work', '(any', 'work\\non', 'which', 'the', 'phrase', '\"Project', 'Gutenberg\"', 'appears,', 'or', 'with', 'which', 'the\\nphrase', '\"Project', 'Gutenberg\"', 'is', 'associated)', 'is', 'accessed,', 'displayed,\\nperformed,', 'viewed,', 'copied', 'or', 'distributed:\\n\\n', '', 'This', 'eBook', 'is', 'for', 'the', 'use', 'of', 'anyone', 'anywhere', 'in', 'the', 'United', 'States', 'and\\n', '', 'most', 'other', 'parts', 'of', 'the', 'world', 'at', 'no', 'cost', 'and', 'with', 'almost', 'no\\n', '', 'restrictions', 'whatsoever.', 'You', 'may', 'copy', 'it,', 'give', 'it', 'away', 'or', 're-use', 'it\\n', '', 'under', 'the', 'terms', 'of', 'the', 'Project', 'Gutenberg', 'License', 'included', 'with', 'this\\n', '', 'eBook', 'or', 'online', 'at', 'www.gutenberg.org.', 'If', 'you', 'are', 'not', 'located', 'in', 'the\\n', '', 'United', 'States,', \"you'll\", 'have', 'to', 'check', 'the', 'laws', 'of', 'the', 'country', 'where', 'you\\n', '', 'are', 'located', 'before', 'using', 'this', 'ebook.\\n\\n1.E.2.', 'If', 'an', 'individual', 'Project', 'Gutenberg-tm', 'electronic', 'work', 'is\\nderived', 'from', 'texts', 'not', 'protected', 'by', 'U.S.', 'copyright', 'law', '(does', 'not\\ncontain', 'a', 'notice', 'indicating', 'that', 'it', 'is', 'posted', 'with', 'permission', 'of', 'the\\ncopyright', 'holder),', 'the', 'work', 'can', 'be', 'copied', 'and', 'distributed', 'to', 'anyone', 'in\\nthe', 'United', 'States', 'without', 'paying', 'any', 'fees', 'or', 'charges.', 'If', 'you', 'are\\nredistributing', 'or', 'providing', 'access', 'to', 'a', 'work', 'with', 'the', 'phrase', '\"Project\\nGutenberg\"', 'associated', 'with', 'or', 'appearing', 'on', 'the', 'work,', 'you', 'must', 'comply\\neither', 'with', 'the', 'requirements', 'of', 'paragraphs', '1.E.1', 'through', '1.E.7', 'or\\nobtain', 'permission', 'for', 'the', 'use', 'of', 'the', 'work', 'and', 'the', 'Project', 'Gutenberg-tm\\ntrademark', 'as', 'set', 'forth', 'in', 'paragraphs', '1.E.8', 'or', '1.E.9.\\n\\n1.E.3.', 'If', 'an', 'individual', 'Project', 'Gutenberg-tm', 'electronic', 'work', 'is', 'posted\\nwith', 'the', 'permission', 'of', 'the', 'copyright', 'holder,', 'your', 'use', 'and', 'distribution\\nmust', 'comply', 'with', 'both', 'paragraphs', '1.E.1', 'through', '1.E.7', 'and', 'any\\nadditional', 'terms', 'imposed', 'by', 'the', 'copyright', 'holder.', 'Additional', 'terms\\nwill', 'be', 'linked', 'to', 'the', 'Project', 'Gutenberg-tm', 'License', 'for', 'all', 'works\\nposted', 'with', 'the', 'permission', 'of', 'the', 'copyright', 'holder', 'found', 'at', 'the\\nbeginning', 'of', 'this', 'work.\\n\\n1.E.4.', 'Do', 'not', 'unlink', 'or', 'detach', 'or', 'remove', 'the', 'full', 'Project', 'Gutenberg-tm\\nLicense', 'terms', 'from', 'this', 'work,', 'or', 'any', 'files', 'containing', 'a', 'part', 'of', 'this\\nwork', 'or', 'any', 'other', 'work', 'associated', 'with', 'Project', 'Gutenberg-tm.\\n\\n1.E.5.', 'Do', 'not', 'copy,', 'display,', 'perform,', 'distribute', 'or', 'redistribute', 'this\\nelectronic', 'work,', 'or', 'any', 'part', 'of', 'this', 'electronic', 'work,', 'without\\nprominently', 'displaying', 'the', 'sentence', 'set', 'forth', 'in', 'paragraph', '1.E.1', 'with\\nactive', 'links', 'or', 'immediate', 'access', 'to', 'the', 'full', 'terms', 'of', 'the', 'Project\\nGutenberg-tm', 'License.\\n\\n1.E.6.', 'You', 'may', 'convert', 'to', 'and', 'distribute', 'this', 'work', 'in', 'any', 'binary,\\ncompressed,', 'marked', 'up,', 'nonproprietary', 'or', 'proprietary', 'form,', 'including\\nany', 'word', 'processing', 'or', 'hypertext', 'form.', 'However,', 'if', 'you', 'provide', 'access\\nto', 'or', 'distribute', 'copies', 'of', 'a', 'Project', 'Gutenberg-tm', 'work', 'in', 'a', 'format\\nother', 'than', '\"Plain', 'Vanilla', 'ASCII\"', 'or', 'other', 'format', 'used', 'in', 'the', 'official\\nversion', 'posted', 'on', 'the', 'official', 'Project', 'Gutenberg-tm', 'web', 'site\\n(www.gutenberg.org),', 'you', 'must,', 'at', 'no', 'additional', 'cost,', 'fee', 'or', 'expense\\nto', 'the', 'user,', 'provide', 'a', 'copy,', 'a', 'means', 'of', 'exporting', 'a', 'copy,', 'or', 'a', 'means\\nof', 'obtaining', 'a', 'copy', 'upon', 'request,', 'of', 'the', 'work', 'in', 'its', 'original', '\"Plain\\nVanilla', 'ASCII\"', 'or', 'other', 'form.', 'Any', 'alternate', 'format', 'must', 'include', 'the\\nfull', 'Project', 'Gutenberg-tm', 'License', 'as', 'specified', 'in', 'paragraph', '1.E.1.\\n\\n1.E.7.', 'Do', 'not', 'charge', 'a', 'fee', 'for', 'access', 'to,', 'viewing,', 'displaying,\\nperforming,', 'copying', 'or', 'distributing', 'any', 'Project', 'Gutenberg-tm', 'works\\nunless', 'you', 'comply', 'with', 'paragraph', '1.E.8', 'or', '1.E.9.\\n\\n1.E.8.', 'You', 'may', 'charge', 'a', 'reasonable', 'fee', 'for', 'copies', 'of', 'or', 'providing\\naccess', 'to', 'or', 'distributing', 'Project', 'Gutenberg-tm', 'electronic', 'works\\nprovided', 'that\\n\\n*', 'You', 'pay', 'a', 'royalty', 'fee', 'of', '20%', 'of', 'the', 'gross', 'profits', 'you', 'derive', 'from\\n', '', 'the', 'use', 'of', 'Project', 'Gutenberg-tm', 'works', 'calculated', 'using', 'the', 'method\\n', '', 'you', 'already', 'use', 'to', 'calculate', 'your', 'applicable', 'taxes.', 'The', 'fee', 'is', 'owed\\n', '', 'to', 'the', 'owner', 'of', 'the', 'Project', 'Gutenberg-tm', 'trademark,', 'but', 'he', 'has\\n', '', 'agreed', 'to', 'donate', 'royalties', 'under', 'this', 'paragraph', 'to', 'the', 'Project\\n', '', 'Gutenberg', 'Literary', 'Archive', 'Foundation.', 'Royalty', 'payments', 'must', 'be', 'paid\\n', '', 'within', '60', 'days', 'following', 'each', 'date', 'on', 'which', 'you', 'prepare', '(or', 'are\\n', '', 'legally', 'required', 'to', 'prepare)', 'your', 'periodic', 'tax', 'returns.', 'Royalty\\n', '', 'payments', 'should', 'be', 'clearly', 'marked', 'as', 'such', 'and', 'sent', 'to', 'the', 'Project\\n', '', 'Gutenberg', 'Literary', 'Archive', 'Foundation', 'at', 'the', 'address', 'specified', 'in\\n', '', 'Section', '4,', '\"Information', 'about', 'donations', 'to', 'the', 'Project', 'Gutenberg\\n', '', 'Literary', 'Archive', 'Foundation.\"\\n\\n*', 'You', 'provide', 'a', 'full', 'refund', 'of', 'any', 'money', 'paid', 'by', 'a', 'user', 'who', 'notifies\\n', '', 'you', 'in', 'writing', '(or', 'by', 'e-mail)', 'within', '30', 'days', 'of', 'receipt', 'that', 's/he\\n', '', 'does', 'not', 'agree', 'to', 'the', 'terms', 'of', 'the', 'full', 'Project', 'Gutenberg-tm\\n', '', 'License.', 'You', 'must', 'require', 'such', 'a', 'user', 'to', 'return', 'or', 'destroy', 'all\\n', '', 'copies', 'of', 'the', 'works', 'possessed', 'in', 'a', 'physical', 'medium', 'and', 'discontinue\\n', '', 'all', 'use', 'of', 'and', 'all', 'access', 'to', 'other', 'copies', 'of', 'Project', 'Gutenberg-tm\\n', '', 'works.\\n\\n*', 'You', 'provide,', 'in', 'accordance', 'with', 'paragraph', '1.F.3,', 'a', 'full', 'refund', 'of\\n', '', 'any', 'money', 'paid', 'for', 'a', 'work', 'or', 'a', 'replacement', 'copy,', 'if', 'a', 'defect', 'in', 'the\\n', '', 'electronic', 'work', 'is', 'discovered', 'and', 'reported', 'to', 'you', 'within', '90', 'days', 'of\\n', '', 'receipt', 'of', 'the', 'work.\\n\\n*', 'You', 'comply', 'with', 'all', 'other', 'terms', 'of', 'this', 'agreement', 'for', 'free\\n', '', 'distribution', 'of', 'Project', 'Gutenberg-tm', 'works.\\n\\n1.E.9.', 'If', 'you', 'wish', 'to', 'charge', 'a', 'fee', 'or', 'distribute', 'a', 'Project\\nGutenberg-tm', 'electronic', 'work', 'or', 'group', 'of', 'works', 'on', 'different', 'terms', 'than\\nare', 'set', 'forth', 'in', 'this', 'agreement,', 'you', 'must', 'obtain', 'permission', 'in', 'writing\\nfrom', 'both', 'the', 'Project', 'Gutenberg', 'Literary', 'Archive', 'Foundation', 'and', 'The\\nProject', 'Gutenberg', 'Trademark', 'LLC,', 'the', 'owner', 'of', 'the', 'Project', 'Gutenberg-tm\\ntrademark.', 'Contact', 'the', 'Foundation', 'as', 'set', 'forth', 'in', 'Section', '3', 'below.\\n\\n1.F.\\n\\n1.F.1.', 'Project', 'Gutenberg', 'volunteers', 'and', 'employees', 'expend', 'considerable\\neffort', 'to', 'identify,', 'do', 'copyright', 'research', 'on,', 'transcribe', 'and', 'proofread\\nworks', 'not', 'protected', 'by', 'U.S.', 'copyright', 'law', 'in', 'creating', 'the', 'Project\\nGutenberg-tm', 'collection.', 'Despite', 'these', 'efforts,', 'Project', 'Gutenberg-tm\\nelectronic', 'works,', 'and', 'the', 'medium', 'on', 'which', 'they', 'may', 'be', 'stored,', 'may\\ncontain', '\"Defects,\"', 'such', 'as,', 'but', 'not', 'limited', 'to,', 'incomplete,', 'inaccurate\\nor', 'corrupt', 'data,', 'transcription', 'errors,', 'a', 'copyright', 'or', 'other\\nintellectual', 'property', 'infringement,', 'a', 'defective', 'or', 'damaged', 'disk', 'or\\nother', 'medium,', 'a', 'computer', 'virus,', 'or', 'computer', 'codes', 'that', 'damage', 'or\\ncannot', 'be', 'read', 'by', 'your', 'equipment.\\n\\n1.F.2.', 'LIMITED', 'WARRANTY,', 'DISCLAIMER', 'OF', 'DAMAGES', '-', 'Except', 'for', 'the', '\"Right\\nof', 'Replacement', 'or', 'Refund\"', 'described', 'in', 'paragraph', '1.F.3,', 'the', 'Project\\nGutenberg', 'Literary', 'Archive', 'Foundation,', 'the', 'owner', 'of', 'the', 'Project\\nGutenberg-tm', 'trademark,', 'and', 'any', 'other', 'party', 'distributing', 'a', 'Project\\nGutenberg-tm', 'electronic', 'work', 'under', 'this', 'agreement,', 'disclaim', 'all\\nliability', 'to', 'you', 'for', 'damages,', 'costs', 'and', 'expenses,', 'including', 'legal\\nfees.', 'YOU', 'AGREE', 'THAT', 'YOU', 'HAVE', 'NO', 'REMEDIES', 'FOR', 'NEGLIGENCE,', 'STRICT\\nLIABILITY,', 'BREACH', 'OF', 'WARRANTY', 'OR', 'BREACH', 'OF', 'CONTRACT', 'EXCEPT', 'THOSE\\nPROVIDED', 'IN', 'PARAGRAPH', '1.F.3.', 'YOU', 'AGREE', 'THAT', 'THE', 'FOUNDATION,', 'THE\\nTRADEMARK', 'OWNER,', 'AND', 'ANY', 'DISTRIBUTOR', 'UNDER', 'THIS', 'AGREEMENT', 'WILL', 'NOT', 'BE\\nLIABLE', 'TO', 'YOU', 'FOR', 'ACTUAL,', 'DIRECT,', 'INDIRECT,', 'CONSEQUENTIAL,', 'PUNITIVE', 'OR\\nINCIDENTAL', 'DAMAGES', 'EVEN', 'IF', 'YOU', 'GIVE', 'NOTICE', 'OF', 'THE', 'POSSIBILITY', 'OF', 'SUCH\\nDAMAGE.\\n\\n1.F.3.', 'LIMITED', 'RIGHT', 'OF', 'REPLACEMENT', 'OR', 'REFUND', '-', 'If', 'you', 'discover', 'a\\ndefect', 'in', 'this', 'electronic', 'work', 'within', '90', 'days', 'of', 'receiving', 'it,', 'you', 'can\\nreceive', 'a', 'refund', 'of', 'the', 'money', '(if', 'any)', 'you', 'paid', 'for', 'it', 'by', 'sending', 'a\\nwritten', 'explanation', 'to', 'the', 'person', 'you', 'received', 'the', 'work', 'from.', 'If', 'you\\nreceived', 'the', 'work', 'on', 'a', 'physical', 'medium,', 'you', 'must', 'return', 'the', 'medium\\nwith', 'your', 'written', 'explanation.', 'The', 'person', 'or', 'entity', 'that', 'provided', 'you\\nwith', 'the', 'defective', 'work', 'may', 'elect', 'to', 'provide', 'a', 'replacement', 'copy', 'in\\nlieu', 'of', 'a', 'refund.', 'If', 'you', 'received', 'the', 'work', 'electronically,', 'the', 'person\\nor', 'entity', 'providing', 'it', 'to', 'you', 'may', 'choose', 'to', 'give', 'you', 'a', 'second\\nopportunity', 'to', 'receive', 'the', 'work', 'electronically', 'in', 'lieu', 'of', 'a', 'refund.', 'If\\nthe', 'second', 'copy', 'is', 'also', 'defective,', 'you', 'may', 'demand', 'a', 'refund', 'in', 'writing\\nwithout', 'further', 'opportunities', 'to', 'fix', 'the', 'problem.\\n\\n1.F.4.', 'Except', 'for', 'the', 'limited', 'right', 'of', 'replacement', 'or', 'refund', 'set', 'forth\\nin', 'paragraph', '1.F.3,', 'this', 'work', 'is', 'provided', 'to', 'you', \"'AS-IS',\", 'WITH', 'NO\\nOTHER', 'WARRANTIES', 'OF', 'ANY', 'KIND,', 'EXPRESS', 'OR', 'IMPLIED,', 'INCLUDING', 'BUT', 'NOT\\nLIMITED', 'TO', 'WARRANTIES', 'OF', 'MERCHANTABILITY', 'OR', 'FITNESS', 'FOR', 'ANY', 'PURPOSE.\\n\\n1.F.5.', 'Some', 'states', 'do', 'not', 'allow', 'disclaimers', 'of', 'certain', 'implied\\nwarranties', 'or', 'the', 'exclusion', 'or', 'limitation', 'of', 'certain', 'types', 'of\\ndamages.', 'If', 'any', 'disclaimer', 'or', 'limitation', 'set', 'forth', 'in', 'this', 'agreement\\nviolates', 'the', 'law', 'of', 'the', 'state', 'applicable', 'to', 'this', 'agreement,', 'the\\nagreement', 'shall', 'be', 'interpreted', 'to', 'make', 'the', 'maximum', 'disclaimer', 'or\\nlimitation', 'permitted', 'by', 'the', 'applicable', 'state', 'law.', 'The', 'invalidity', 'or\\nunenforceability', 'of', 'any', 'provision', 'of', 'this', 'agreement', 'shall', 'not', 'void', 'the\\nremaining', 'provisions.\\n\\n1.F.6.', 'INDEMNITY', '-', 'You', 'agree', 'to', 'indemnify', 'and', 'hold', 'the', 'Foundation,', 'the\\ntrademark', 'owner,', 'any', 'agent', 'or', 'employee', 'of', 'the', 'Foundation,', 'anyone\\nproviding', 'copies', 'of', 'Project', 'Gutenberg-tm', 'electronic', 'works', 'in\\naccordance', 'with', 'this', 'agreement,', 'and', 'any', 'volunteers', 'associated', 'with', 'the\\nproduction,', 'promotion', 'and', 'distribution', 'of', 'Project', 'Gutenberg-tm\\nelectronic', 'works,', 'harmless', 'from', 'all', 'liability,', 'costs', 'and', 'expenses,\\nincluding', 'legal', 'fees,', 'that', 'arise', 'directly', 'or', 'indirectly', 'from', 'any', 'of\\nthe', 'following', 'which', 'you', 'do', 'or', 'cause', 'to', 'occur:', '(a)', 'distribution', 'of', 'this\\nor', 'any', 'Project', 'Gutenberg-tm', 'work,', '(b)', 'alteration,', 'modification,', 'or\\nadditions', 'or', 'deletions', 'to', 'any', 'Project', 'Gutenberg-tm', 'work,', 'and', '(c)', 'any\\nDefect', 'you', 'cause.\\n\\nSection', '2.', 'Information', 'about', 'the', 'Mission', 'of', 'Project', 'Gutenberg-tm\\n\\nProject', 'Gutenberg-tm', 'is', 'synonymous', 'with', 'the', 'free', 'distribution', 'of\\nelectronic', 'works', 'in', 'formats', 'readable', 'by', 'the', 'widest', 'variety', 'of\\ncomputers', 'including', 'obsolete,', 'old,', 'middle-aged', 'and', 'new', 'computers.', 'It\\nexists', 'because', 'of', 'the', 'efforts', 'of', 'hundreds', 'of', 'volunteers', 'and', 'donations\\nfrom', 'people', 'in', 'all', 'walks', 'of', 'life.\\n\\nVolunteers', 'and', 'financial', 'support', 'to', 'provide', 'volunteers', 'with', 'the\\nassistance', 'they', 'need', 'are', 'critical', 'to', 'reaching', 'Project', \"Gutenberg-tm's\\ngoals\", 'and', 'ensuring', 'that', 'the', 'Project', 'Gutenberg-tm', 'collection', 'will\\nremain', 'freely', 'available', 'for', 'generations', 'to', 'come.', 'In', '2001,', 'the', 'Project\\nGutenberg', 'Literary', 'Archive', 'Foundation', 'was', 'created', 'to', 'provide', 'a', 'secure\\nand', 'permanent', 'future', 'for', 'Project', 'Gutenberg-tm', 'and', 'future\\ngenerations.', 'To', 'learn', 'more', 'about', 'the', 'Project', 'Gutenberg', 'Literary\\nArchive', 'Foundation', 'and', 'how', 'your', 'efforts', 'and', 'donations', 'can', 'help,', 'see\\nSections', '3', 'and', '4', 'and', 'the', 'Foundation', 'information', 'page', 'at\\nwww.gutenberg.org', 'Section', '3.', 'Information', 'about', 'the', 'Project', 'Gutenberg\\nLiterary', 'Archive', 'Foundation\\n\\nThe', 'Project', 'Gutenberg', 'Literary', 'Archive', 'Foundation', 'is', 'a', 'non', 'profit\\n501(c)(3)', 'educational', 'corporation', 'organized', 'under', 'the', 'laws', 'of', 'the\\nstate', 'of', 'Mississippi', 'and', 'granted', 'tax', 'exempt', 'status', 'by', 'the', 'Internal\\nRevenue', 'Service.', 'The', \"Foundation's\", 'EIN', 'or', 'federal', 'tax', 'identification\\nnumber', 'is', '64-6221541.', 'Contributions', 'to', 'the', 'Project', 'Gutenberg', 'Literary\\nArchive', 'Foundation', 'are', 'tax', 'deductible', 'to', 'the', 'full', 'extent', 'permitted', 'by\\nU.S.', 'federal', 'laws', 'and', 'your', \"state's\", 'laws.\\n\\nThe', \"Foundation's\", 'principal', 'office', 'is', 'in', 'Fairbanks,', 'Alaska,', 'with', 'the\\nmailing', 'address:', 'PO', 'Box', '750175,', 'Fairbanks,', 'AK', '99775,', 'but', 'its\\nvolunteers', 'and', 'employees', 'are', 'scattered', 'throughout', 'numerous\\nlocations.', 'Its', 'business', 'office', 'is', 'located', 'at', '809', 'North', '1500', 'West,', 'Salt\\nLake', 'City,', 'UT', '84116,', '(801)', '596-1887.', 'Email', 'contact', 'links', 'and', 'up', 'to\\ndate', 'contact', 'information', 'can', 'be', 'found', 'at', 'the', \"Foundation's\", 'web', 'site', 'and\\nofficial', 'page', 'at', 'www.gutenberg.org/contact\\n\\nFor', 'additional', 'contact', 'information:\\n\\n', '', '', '', 'Dr.', 'Gregory', 'B.', 'Newby\\n', '', '', '', 'Chief', 'Executive', 'and', 'Director\\n', '', '', '', 'gbnewby@pglaf.org\\n\\nSection', '4.', 'Information', 'about', 'Donations', 'to', 'the', 'Project', 'Gutenberg\\nLiterary', 'Archive', 'Foundation\\n\\nProject', 'Gutenberg-tm', 'depends', 'upon', 'and', 'cannot', 'survive', 'without', 'wide\\nspread', 'public', 'support', 'and', 'donations', 'to', 'carry', 'out', 'its', 'mission', 'of\\nincreasing', 'the', 'number', 'of', 'public', 'domain', 'and', 'licensed', 'works', 'that', 'can', 'be\\nfreely', 'distributed', 'in', 'machine', 'readable', 'form', 'accessible', 'by', 'the', 'widest\\narray', 'of', 'equipment', 'including', 'outdated', 'equipment.', 'Many', 'small', 'donations\\n($1', 'to', '$5,000)', 'are', 'particularly', 'important', 'to', 'maintaining', 'tax', 'exempt\\nstatus', 'with', 'the', 'IRS.\\n\\nThe', 'Foundation', 'is', 'committed', 'to', 'complying', 'with', 'the', 'laws', 'regulating\\ncharities', 'and', 'charitable', 'donations', 'in', 'all', '50', 'states', 'of', 'the', 'United\\nStates.', 'Compliance', 'requirements', 'are', 'not', 'uniform', 'and', 'it', 'takes', 'a\\nconsiderable', 'effort,', 'much', 'paperwork', 'and', 'many', 'fees', 'to', 'meet', 'and', 'keep', 'up\\nwith', 'these', 'requirements.', 'We', 'do', 'not', 'solicit', 'donations', 'in', 'locations\\nwhere', 'we', 'have', 'not', 'received', 'written', 'confirmation', 'of', 'compliance.', 'To', 'SEND\\nDONATIONS', 'or', 'determine', 'the', 'status', 'of', 'compliance', 'for', 'any', 'particular\\nstate', 'visit', 'www.gutenberg.org/donate\\n\\nWhile', 'we', 'cannot', 'and', 'do', 'not', 'solicit', 'contributions', 'from', 'states', 'where', 'we\\nhave', 'not', 'met', 'the', 'solicitation', 'requirements,', 'we', 'know', 'of', 'no', 'prohibition\\nagainst', 'accepting', 'unsolicited', 'donations', 'from', 'donors', 'in', 'such', 'states', 'who\\napproach', 'us', 'with', 'offers', 'to', 'donate.\\n\\nInternational', 'donations', 'are', 'gratefully', 'accepted,', 'but', 'we', 'cannot', 'make\\nany', 'statements', 'concerning', 'tax', 'treatment', 'of', 'donations', 'received', 'from\\noutside', 'the', 'United', 'States.', 'U.S.', 'laws', 'alone', 'swamp', 'our', 'small', 'staff.\\n\\nPlease', 'check', 'the', 'Project', 'Gutenberg', 'Web', 'pages', 'for', 'current', 'donation\\nmethods', 'and', 'addresses.', 'Donations', 'are', 'accepted', 'in', 'a', 'number', 'of', 'other\\nways', 'including', 'checks,', 'online', 'payments', 'and', 'credit', 'card', 'donations.', 'To\\ndonate,', 'please', 'visit:', 'www.gutenberg.org/donate\\n\\nSection', '5.', 'General', 'Information', 'About', 'Project', 'Gutenberg-tm', 'electronic', 'works.\\n\\nProfessor', 'Michael', 'S.', 'Hart', 'was', 'the', 'originator', 'of', 'the', 'Project\\nGutenberg-tm', 'concept', 'of', 'a', 'library', 'of', 'electronic', 'works', 'that', 'could', 'be\\nfreely', 'shared', 'with', 'anyone.', 'For', 'forty', 'years,', 'he', 'produced', 'and\\ndistributed', 'Project', 'Gutenberg-tm', 'eBooks', 'with', 'only', 'a', 'loose', 'network', 'of\\nvolunteer', 'support.\\n\\nProject', 'Gutenberg-tm', 'eBooks', 'are', 'often', 'created', 'from', 'several', 'printed\\neditions,', 'all', 'of', 'which', 'are', 'confirmed', 'as', 'not', 'protected', 'by', 'copyright', 'in\\nthe', 'U.S.', 'unless', 'a', 'copyright', 'notice', 'is', 'included.', 'Thus,', 'we', 'do', 'not\\nnecessarily', 'keep', 'eBooks', 'in', 'compliance', 'with', 'any', 'particular', 'paper\\nedition.\\n\\nMost', 'people', 'start', 'at', 'our', 'Web', 'site', 'which', 'has', 'the', 'main', 'PG', 'search\\nfacility:', 'www.gutenberg.org\\n\\nThis', 'Web', 'site', 'includes', 'information', 'about', 'Project', 'Gutenberg-tm,\\nincluding', 'how', 'to', 'make', 'donations', 'to', 'the', 'Project', 'Gutenberg', 'Literary\\nArchive', 'Foundation,', 'how', 'to', 'help', 'produce', 'our', 'new', 'eBooks,', 'and', 'how', 'to\\nsubscribe', 'to', 'our', 'email', 'newsletter', 'to', 'hear', 'about', 'new', 'eBooks.\\n\\n']\n"
    }
   ],
   "source": [
    "# Your code here:\n",
    "\n",
    "prophet_reference = list(map(reference,new_prophet))\n",
    "\n",
    "print(prophet_reference)\n"
   ]
  },
  {
   "cell_type": "markdown",
   "metadata": {},
   "source": [
    "    Another thing you may have noticed is that some words contain a line break. Let's write a function to split those words. Our function will return the string split on the character `\\n`. Write your function in the cell below."
   ]
  },
  {
   "cell_type": "code",
   "execution_count": 13,
   "metadata": {},
   "outputs": [],
   "source": [
    "def line_break(x):\n",
    "    '''\n",
    "    Input: A string\n",
    "    Output: A list of strings split on the line break (\\n) character\n",
    "        \n",
    "    Example:\n",
    "    Input: 'the\\nbeloved'\n",
    "    Output: ['the', 'beloved']\n",
    "    '''\n",
    "    \n",
    "    # Your code here:\n",
    "    \n",
    "    return re.split(r'\\n',x)\n",
    "    "
   ]
  },
  {
   "cell_type": "markdown",
   "metadata": {},
   "source": [
    "Apply the `line_break` function to the `prophet_reference` list. Name the new list `prophet_line`."
   ]
  },
  {
   "cell_type": "code",
   "execution_count": 14,
   "metadata": {},
   "outputs": [
    {
     "name": "stdout",
     "output_type": "stream",
     "text": "copies'], ['of'], ['a'], ['Project'], ['Gutenberg-tm'], ['work'], ['in'], ['a'], ['format', 'other'], ['than'], ['\"Plain'], ['Vanilla'], ['ASCII\"'], ['or'], ['other'], ['format'], ['used'], ['in'], ['the'], ['official', 'version'], ['posted'], ['on'], ['the'], ['official'], ['Project'], ['Gutenberg-tm'], ['web'], ['site', '(www.gutenberg.org),'], ['you'], ['must,'], ['at'], ['no'], ['additional'], ['cost,'], ['fee'], ['or'], ['expense', 'to'], ['the'], ['user,'], ['provide'], ['a'], ['copy,'], ['a'], ['means'], ['of'], ['exporting'], ['a'], ['copy,'], ['or'], ['a'], ['means', 'of'], ['obtaining'], ['a'], ['copy'], ['upon'], ['request,'], ['of'], ['the'], ['work'], ['in'], ['its'], ['original'], ['\"Plain', 'Vanilla'], ['ASCII\"'], ['or'], ['other'], ['form.'], ['Any'], ['alternate'], ['format'], ['must'], ['include'], ['the', 'full'], ['Project'], ['Gutenberg-tm'], ['License'], ['as'], ['specified'], ['in'], ['paragraph'], ['1.E.1.', '', '1.E.7.'], ['Do'], ['not'], ['charge'], ['a'], ['fee'], ['for'], ['access'], ['to,'], ['viewing,'], ['displaying,', 'performing,'], ['copying'], ['or'], ['distributing'], ['any'], ['Project'], ['Gutenberg-tm'], ['works', 'unless'], ['you'], ['comply'], ['with'], ['paragraph'], ['1.E.8'], ['or'], ['1.E.9.', '', '1.E.8.'], ['You'], ['may'], ['charge'], ['a'], ['reasonable'], ['fee'], ['for'], ['copies'], ['of'], ['or'], ['providing', 'access'], ['to'], ['or'], ['distributing'], ['Project'], ['Gutenberg-tm'], ['electronic'], ['works', 'provided'], ['that', '', '*'], ['You'], ['pay'], ['a'], ['royalty'], ['fee'], ['of'], ['20%'], ['of'], ['the'], ['gross'], ['profits'], ['you'], ['derive'], ['from', ''], [''], ['the'], ['use'], ['of'], ['Project'], ['Gutenberg-tm'], ['works'], ['calculated'], ['using'], ['the'], ['method', ''], [''], ['you'], ['already'], ['use'], ['to'], ['calculate'], ['your'], ['applicable'], ['taxes.'], ['The'], ['fee'], ['is'], ['owed', ''], [''], ['to'], ['the'], ['owner'], ['of'], ['the'], ['Project'], ['Gutenberg-tm'], ['trademark,'], ['but'], ['he'], ['has', ''], [''], ['agreed'], ['to'], ['donate'], ['royalties'], ['under'], ['this'], ['paragraph'], ['to'], ['the'], ['Project', ''], [''], ['Gutenberg'], ['Literary'], ['Archive'], ['Foundation.'], ['Royalty'], ['payments'], ['must'], ['be'], ['paid', ''], [''], ['within'], ['60'], ['days'], ['following'], ['each'], ['date'], ['on'], ['which'], ['you'], ['prepare'], ['(or'], ['are', ''], [''], ['legally'], ['required'], ['to'], ['prepare)'], ['your'], ['periodic'], ['tax'], ['returns.'], ['Royalty', ''], [''], ['payments'], ['should'], ['be'], ['clearly'], ['marked'], ['as'], ['such'], ['and'], ['sent'], ['to'], ['the'], ['Project', ''], [''], ['Gutenberg'], ['Literary'], ['Archive'], ['Foundation'], ['at'], ['the'], ['address'], ['specified'], ['in', ''], [''], ['Section'], ['4,'], ['\"Information'], ['about'], ['donations'], ['to'], ['the'], ['Project'], ['Gutenberg', ''], [''], ['Literary'], ['Archive'], ['Foundation.\"', '', '*'], ['You'], ['provide'], ['a'], ['full'], ['refund'], ['of'], ['any'], ['money'], ['paid'], ['by'], ['a'], ['user'], ['who'], ['notifies', ''], [''], ['you'], ['in'], ['writing'], ['(or'], ['by'], ['e-mail)'], ['within'], ['30'], ['days'], ['of'], ['receipt'], ['that'], ['s/he', ''], [''], ['does'], ['not'], ['agree'], ['to'], ['the'], ['terms'], ['of'], ['the'], ['full'], ['Project'], ['Gutenberg-tm', ''], [''], ['License.'], ['You'], ['must'], ['require'], ['such'], ['a'], ['user'], ['to'], ['return'], ['or'], ['destroy'], ['all', ''], [''], ['copies'], ['of'], ['the'], ['works'], ['possessed'], ['in'], ['a'], ['physical'], ['medium'], ['and'], ['discontinue', ''], [''], ['all'], ['use'], ['of'], ['and'], ['all'], ['access'], ['to'], ['other'], ['copies'], ['of'], ['Project'], ['Gutenberg-tm', ''], [''], ['works.', '', '*'], ['You'], ['provide,'], ['in'], ['accordance'], ['with'], ['paragraph'], ['1.F.3,'], ['a'], ['full'], ['refund'], ['of', ''], [''], ['any'], ['money'], ['paid'], ['for'], ['a'], ['work'], ['or'], ['a'], ['replacement'], ['copy,'], ['if'], ['a'], ['defect'], ['in'], ['the', ''], [''], ['electronic'], ['work'], ['is'], ['discovered'], ['and'], ['reported'], ['to'], ['you'], ['within'], ['90'], ['days'], ['of', ''], [''], ['receipt'], ['of'], ['the'], ['work.', '', '*'], ['You'], ['comply'], ['with'], ['all'], ['other'], ['terms'], ['of'], ['this'], ['agreement'], ['for'], ['free', ''], [''], ['distribution'], ['of'], ['Project'], ['Gutenberg-tm'], ['works.', '', '1.E.9.'], ['If'], ['you'], ['wish'], ['to'], ['charge'], ['a'], ['fee'], ['or'], ['distribute'], ['a'], ['Project', 'Gutenberg-tm'], ['electronic'], ['work'], ['or'], ['group'], ['of'], ['works'], ['on'], ['different'], ['terms'], ['than', 'are'], ['set'], ['forth'], ['in'], ['this'], ['agreement,'], ['you'], ['must'], ['obtain'], ['permission'], ['in'], ['writing', 'from'], ['both'], ['the'], ['Project'], ['Gutenberg'], ['Literary'], ['Archive'], ['Foundation'], ['and'], ['The', 'Project'], ['Gutenberg'], ['Trademark'], ['LLC,'], ['the'], ['owner'], ['of'], ['the'], ['Project'], ['Gutenberg-tm', 'trademark.'], ['Contact'], ['the'], ['Foundation'], ['as'], ['set'], ['forth'], ['in'], ['Section'], ['3'], ['below.', '', '1.F.', '', '1.F.1.'], ['Project'], ['Gutenberg'], ['volunteers'], ['and'], ['employees'], ['expend'], ['considerable', 'effort'], ['to'], ['identify,'], ['do'], ['copyright'], ['research'], ['on,'], ['transcribe'], ['and'], ['proofread', 'works'], ['not'], ['protected'], ['by'], ['U.S.'], ['copyright'], ['law'], ['in'], ['creating'], ['the'], ['Project', 'Gutenberg-tm'], ['collection.'], ['Despite'], ['these'], ['efforts,'], ['Project'], ['Gutenberg-tm', 'electronic'], ['works,'], ['and'], ['the'], ['medium'], ['on'], ['which'], ['they'], ['may'], ['be'], ['stored,'], ['may', 'contain'], ['\"Defects,\"'], ['such'], ['as,'], ['but'], ['not'], ['limited'], ['to,'], ['incomplete,'], ['inaccurate', 'or'], ['corrupt'], ['data,'], ['transcription'], ['errors,'], ['a'], ['copyright'], ['or'], ['other', 'intellectual'], ['property'], ['infringement,'], ['a'], ['defective'], ['or'], ['damaged'], ['disk'], ['or', 'other'], ['medium,'], ['a'], ['computer'], ['virus,'], ['or'], ['computer'], ['codes'], ['that'], ['damage'], ['or', 'cannot'], ['be'], ['read'], ['by'], ['your'], ['equipment.', '', '1.F.2.'], ['LIMITED'], ['WARRANTY,'], ['DISCLAIMER'], ['OF'], ['DAMAGES'], ['-'], ['Except'], ['for'], ['the'], ['\"Right', 'of'], ['Replacement'], ['or'], ['Refund\"'], ['described'], ['in'], ['paragraph'], ['1.F.3,'], ['the'], ['Project', 'Gutenberg'], ['Literary'], ['Archive'], ['Foundation,'], ['the'], ['owner'], ['of'], ['the'], ['Project', 'Gutenberg-tm'], ['trademark,'], ['and'], ['any'], ['other'], ['party'], ['distributing'], ['a'], ['Project', 'Gutenberg-tm'], ['electronic'], ['work'], ['under'], ['this'], ['agreement,'], ['disclaim'], ['all', 'liability'], ['to'], ['you'], ['for'], ['damages,'], ['costs'], ['and'], ['expenses,'], ['including'], ['legal', 'fees.'], ['YOU'], ['AGREE'], ['THAT'], ['YOU'], ['HAVE'], ['NO'], ['REMEDIES'], ['FOR'], ['NEGLIGENCE,'], ['STRICT', 'LIABILITY,'], ['BREACH'], ['OF'], ['WARRANTY'], ['OR'], ['BREACH'], ['OF'], ['CONTRACT'], ['EXCEPT'], ['THOSE', 'PROVIDED'], ['IN'], ['PARAGRAPH'], ['1.F.3.'], ['YOU'], ['AGREE'], ['THAT'], ['THE'], ['FOUNDATION,'], ['THE', 'TRADEMARK'], ['OWNER,'], ['AND'], ['ANY'], ['DISTRIBUTOR'], ['UNDER'], ['THIS'], ['AGREEMENT'], ['WILL'], ['NOT'], ['BE', 'LIABLE'], ['TO'], ['YOU'], ['FOR'], ['ACTUAL,'], ['DIRECT,'], ['INDIRECT,'], ['CONSEQUENTIAL,'], ['PUNITIVE'], ['OR', 'INCIDENTAL'], ['DAMAGES'], ['EVEN'], ['IF'], ['YOU'], ['GIVE'], ['NOTICE'], ['OF'], ['THE'], ['POSSIBILITY'], ['OF'], ['SUCH', 'DAMAGE.', '', '1.F.3.'], ['LIMITED'], ['RIGHT'], ['OF'], ['REPLACEMENT'], ['OR'], ['REFUND'], ['-'], ['If'], ['you'], ['discover'], ['a', 'defect'], ['in'], ['this'], ['electronic'], ['work'], ['within'], ['90'], ['days'], ['of'], ['receiving'], ['it,'], ['you'], ['can', 'receive'], ['a'], ['refund'], ['of'], ['the'], ['money'], ['(if'], ['any)'], ['you'], ['paid'], ['for'], ['it'], ['by'], ['sending'], ['a', 'written'], ['explanation'], ['to'], ['the'], ['person'], ['you'], ['received'], ['the'], ['work'], ['from.'], ['If'], ['you', 'received'], ['the'], ['work'], ['on'], ['a'], ['physical'], ['medium,'], ['you'], ['must'], ['return'], ['the'], ['medium', 'with'], ['your'], ['written'], ['explanation.'], ['The'], ['person'], ['or'], ['entity'], ['that'], ['provided'], ['you', 'with'], ['the'], ['defective'], ['work'], ['may'], ['elect'], ['to'], ['provide'], ['a'], ['replacement'], ['copy'], ['in', 'lieu'], ['of'], ['a'], ['refund.'], ['If'], ['you'], ['received'], ['the'], ['work'], ['electronically,'], ['the'], ['person', 'or'], ['entity'], ['providing'], ['it'], ['to'], ['you'], ['may'], ['choose'], ['to'], ['give'], ['you'], ['a'], ['second', 'opportunity'], ['to'], ['receive'], ['the'], ['work'], ['electronically'], ['in'], ['lieu'], ['of'], ['a'], ['refund.'], ['If', 'the'], ['second'], ['copy'], ['is'], ['also'], ['defective,'], ['you'], ['may'], ['demand'], ['a'], ['refund'], ['in'], ['writing', 'without'], ['further'], ['opportunities'], ['to'], ['fix'], ['the'], ['problem.', '', '1.F.4.'], ['Except'], ['for'], ['the'], ['limited'], ['right'], ['of'], ['replacement'], ['or'], ['refund'], ['set'], ['forth', 'in'], ['paragraph'], ['1.F.3,'], ['this'], ['work'], ['is'], ['provided'], ['to'], ['you'], [\"'AS-IS',\"], ['WITH'], ['NO', 'OTHER'], ['WARRANTIES'], ['OF'], ['ANY'], ['KIND,'], ['EXPRESS'], ['OR'], ['IMPLIED,'], ['INCLUDING'], ['BUT'], ['NOT', 'LIMITED'], ['TO'], ['WARRANTIES'], ['OF'], ['MERCHANTABILITY'], ['OR'], ['FITNESS'], ['FOR'], ['ANY'], ['PURPOSE.', '', '1.F.5.'], ['Some'], ['states'], ['do'], ['not'], ['allow'], ['disclaimers'], ['of'], ['certain'], ['implied', 'warranties'], ['or'], ['the'], ['exclusion'], ['or'], ['limitation'], ['of'], ['certain'], ['types'], ['of', 'damages.'], ['If'], ['any'], ['disclaimer'], ['or'], ['limitation'], ['set'], ['forth'], ['in'], ['this'], ['agreement', 'violates'], ['the'], ['law'], ['of'], ['the'], ['state'], ['applicable'], ['to'], ['this'], ['agreement,'], ['the', 'agreement'], ['shall'], ['be'], ['interpreted'], ['to'], ['make'], ['the'], ['maximum'], ['disclaimer'], ['or', 'limitation'], ['permitted'], ['by'], ['the'], ['applicable'], ['state'], ['law.'], ['The'], ['invalidity'], ['or', 'unenforceability'], ['of'], ['any'], ['provision'], ['of'], ['this'], ['agreement'], ['shall'], ['not'], ['void'], ['the', 'remaining'], ['provisions.', '', '1.F.6.'], ['INDEMNITY'], ['-'], ['You'], ['agree'], ['to'], ['indemnify'], ['and'], ['hold'], ['the'], ['Foundation,'], ['the', 'trademark'], ['owner,'], ['any'], ['agent'], ['or'], ['employee'], ['of'], ['the'], ['Foundation,'], ['anyone', 'providing'], ['copies'], ['of'], ['Project'], ['Gutenberg-tm'], ['electronic'], ['works'], ['in', 'accordance'], ['with'], ['this'], ['agreement,'], ['and'], ['any'], ['volunteers'], ['associated'], ['with'], ['the', 'production,'], ['promotion'], ['and'], ['distribution'], ['of'], ['Project'], ['Gutenberg-tm', 'electronic'], ['works,'], ['harmless'], ['from'], ['all'], ['liability,'], ['costs'], ['and'], ['expenses,', 'including'], ['legal'], ['fees,'], ['that'], ['arise'], ['directly'], ['or'], ['indirectly'], ['from'], ['any'], ['of', 'the'], ['following'], ['which'], ['you'], ['do'], ['or'], ['cause'], ['to'], ['occur:'], ['(a)'], ['distribution'], ['of'], ['this', 'or'], ['any'], ['Project'], ['Gutenberg-tm'], ['work,'], ['(b)'], ['alteration,'], ['modification,'], ['or', 'additions'], ['or'], ['deletions'], ['to'], ['any'], ['Project'], ['Gutenberg-tm'], ['work,'], ['and'], ['(c)'], ['any', 'Defect'], ['you'], ['cause.', '', 'Section'], ['2.'], ['Information'], ['about'], ['the'], ['Mission'], ['of'], ['Project'], ['Gutenberg-tm', '', 'Project'], ['Gutenberg-tm'], ['is'], ['synonymous'], ['with'], ['the'], ['free'], ['distribution'], ['of', 'electronic'], ['works'], ['in'], ['formats'], ['readable'], ['by'], ['the'], ['widest'], ['variety'], ['of', 'computers'], ['including'], ['obsolete,'], ['old,'], ['middle-aged'], ['and'], ['new'], ['computers.'], ['It', 'exists'], ['because'], ['of'], ['the'], ['efforts'], ['of'], ['hundreds'], ['of'], ['volunteers'], ['and'], ['donations', 'from'], ['people'], ['in'], ['all'], ['walks'], ['of'], ['life.', '', 'Volunteers'], ['and'], ['financial'], ['support'], ['to'], ['provide'], ['volunteers'], ['with'], ['the', 'assistance'], ['they'], ['need'], ['are'], ['critical'], ['to'], ['reaching'], ['Project'], [\"Gutenberg-tm's\", 'goals'], ['and'], ['ensuring'], ['that'], ['the'], ['Project'], ['Gutenberg-tm'], ['collection'], ['will', 'remain'], ['freely'], ['available'], ['for'], ['generations'], ['to'], ['come.'], ['In'], ['2001,'], ['the'], ['Project', 'Gutenberg'], ['Literary'], ['Archive'], ['Foundation'], ['was'], ['created'], ['to'], ['provide'], ['a'], ['secure', 'and'], ['permanent'], ['future'], ['for'], ['Project'], ['Gutenberg-tm'], ['and'], ['future', 'generations.'], ['To'], ['learn'], ['more'], ['about'], ['the'], ['Project'], ['Gutenberg'], ['Literary', 'Archive'], ['Foundation'], ['and'], ['how'], ['your'], ['efforts'], ['and'], ['donations'], ['can'], ['help,'], ['see', 'Sections'], ['3'], ['and'], ['4'], ['and'], ['the'], ['Foundation'], ['information'], ['page'], ['at', 'www.gutenberg.org'], ['Section'], ['3.'], ['Information'], ['about'], ['the'], ['Project'], ['Gutenberg', 'Literary'], ['Archive'], ['Foundation', '', 'The'], ['Project'], ['Gutenberg'], ['Literary'], ['Archive'], ['Foundation'], ['is'], ['a'], ['non'], ['profit', '501(c)(3)'], ['educational'], ['corporation'], ['organized'], ['under'], ['the'], ['laws'], ['of'], ['the', 'state'], ['of'], ['Mississippi'], ['and'], ['granted'], ['tax'], ['exempt'], ['status'], ['by'], ['the'], ['Internal', 'Revenue'], ['Service.'], ['The'], [\"Foundation's\"], ['EIN'], ['or'], ['federal'], ['tax'], ['identification', 'number'], ['is'], ['64-6221541.'], ['Contributions'], ['to'], ['the'], ['Project'], ['Gutenberg'], ['Literary', 'Archive'], ['Foundation'], ['are'], ['tax'], ['deductible'], ['to'], ['the'], ['full'], ['extent'], ['permitted'], ['by', 'U.S.'], ['federal'], ['laws'], ['and'], ['your'], [\"state's\"], ['laws.', '', 'The'], [\"Foundation's\"], ['principal'], ['office'], ['is'], ['in'], ['Fairbanks,'], ['Alaska,'], ['with'], ['the', 'mailing'], ['address:'], ['PO'], ['Box'], ['750175,'], ['Fairbanks,'], ['AK'], ['99775,'], ['but'], ['its', 'volunteers'], ['and'], ['employees'], ['are'], ['scattered'], ['throughout'], ['numerous', 'locations.'], ['Its'], ['business'], ['office'], ['is'], ['located'], ['at'], ['809'], ['North'], ['1500'], ['West,'], ['Salt', 'Lake'], ['City,'], ['UT'], ['84116,'], ['(801)'], ['596-1887.'], ['Email'], ['contact'], ['links'], ['and'], ['up'], ['to', 'date'], ['contact'], ['information'], ['can'], ['be'], ['found'], ['at'], ['the'], [\"Foundation's\"], ['web'], ['site'], ['and', 'official'], ['page'], ['at'], ['www.gutenberg.org/contact', '', 'For'], ['additional'], ['contact'], ['information:', '', ''], [''], [''], [''], ['Dr.'], ['Gregory'], ['B.'], ['Newby', ''], [''], [''], [''], ['Chief'], ['Executive'], ['and'], ['Director', ''], [''], [''], [''], ['gbnewby@pglaf.org', '', 'Section'], ['4.'], ['Information'], ['about'], ['Donations'], ['to'], ['the'], ['Project'], ['Gutenberg', 'Literary'], ['Archive'], ['Foundation', '', 'Project'], ['Gutenberg-tm'], ['depends'], ['upon'], ['and'], ['cannot'], ['survive'], ['without'], ['wide', 'spread'], ['public'], ['support'], ['and'], ['donations'], ['to'], ['carry'], ['out'], ['its'], ['mission'], ['of', 'increasing'], ['the'], ['number'], ['of'], ['public'], ['domain'], ['and'], ['licensed'], ['works'], ['that'], ['can'], ['be', 'freely'], ['distributed'], ['in'], ['machine'], ['readable'], ['form'], ['accessible'], ['by'], ['the'], ['widest', 'array'], ['of'], ['equipment'], ['including'], ['outdated'], ['equipment.'], ['Many'], ['small'], ['donations', '($1'], ['to'], ['$5,000)'], ['are'], ['particularly'], ['important'], ['to'], ['maintaining'], ['tax'], ['exempt', 'status'], ['with'], ['the'], ['IRS.', '', 'The'], ['Foundation'], ['is'], ['committed'], ['to'], ['complying'], ['with'], ['the'], ['laws'], ['regulating', 'charities'], ['and'], ['charitable'], ['donations'], ['in'], ['all'], ['50'], ['states'], ['of'], ['the'], ['United', 'States.'], ['Compliance'], ['requirements'], ['are'], ['not'], ['uniform'], ['and'], ['it'], ['takes'], ['a', 'considerable'], ['effort,'], ['much'], ['paperwork'], ['and'], ['many'], ['fees'], ['to'], ['meet'], ['and'], ['keep'], ['up', 'with'], ['these'], ['requirements.'], ['We'], ['do'], ['not'], ['solicit'], ['donations'], ['in'], ['locations', 'where'], ['we'], ['have'], ['not'], ['received'], ['written'], ['confirmation'], ['of'], ['compliance.'], ['To'], ['SEND', 'DONATIONS'], ['or'], ['determine'], ['the'], ['status'], ['of'], ['compliance'], ['for'], ['any'], ['particular', 'state'], ['visit'], ['www.gutenberg.org/donate', '', 'While'], ['we'], ['cannot'], ['and'], ['do'], ['not'], ['solicit'], ['contributions'], ['from'], ['states'], ['where'], ['we', 'have'], ['not'], ['met'], ['the'], ['solicitation'], ['requirements,'], ['we'], ['know'], ['of'], ['no'], ['prohibition', 'against'], ['accepting'], ['unsolicited'], ['donations'], ['from'], ['donors'], ['in'], ['such'], ['states'], ['who', 'approach'], ['us'], ['with'], ['offers'], ['to'], ['donate.', '', 'International'], ['donations'], ['are'], ['gratefully'], ['accepted,'], ['but'], ['we'], ['cannot'], ['make', 'any'], ['statements'], ['concerning'], ['tax'], ['treatment'], ['of'], ['donations'], ['received'], ['from', 'outside'], ['the'], ['United'], ['States.'], ['U.S.'], ['laws'], ['alone'], ['swamp'], ['our'], ['small'], ['staff.', '', 'Please'], ['check'], ['the'], ['Project'], ['Gutenberg'], ['Web'], ['pages'], ['for'], ['current'], ['donation', 'methods'], ['and'], ['addresses.'], ['Donations'], ['are'], ['accepted'], ['in'], ['a'], ['number'], ['of'], ['other', 'ways'], ['including'], ['checks,'], ['online'], ['payments'], ['and'], ['credit'], ['card'], ['donations.'], ['To', 'donate,'], ['please'], ['visit:'], ['www.gutenberg.org/donate', '', 'Section'], ['5.'], ['General'], ['Information'], ['About'], ['Project'], ['Gutenberg-tm'], ['electronic'], ['works.', '', 'Professor'], ['Michael'], ['S.'], ['Hart'], ['was'], ['the'], ['originator'], ['of'], ['the'], ['Project', 'Gutenberg-tm'], ['concept'], ['of'], ['a'], ['library'], ['of'], ['electronic'], ['works'], ['that'], ['could'], ['be', 'freely'], ['shared'], ['with'], ['anyone.'], ['For'], ['forty'], ['years,'], ['he'], ['produced'], ['and', 'distributed'], ['Project'], ['Gutenberg-tm'], ['eBooks'], ['with'], ['only'], ['a'], ['loose'], ['network'], ['of', 'volunteer'], ['support.', '', 'Project'], ['Gutenberg-tm'], ['eBooks'], ['are'], ['often'], ['created'], ['from'], ['several'], ['printed', 'editions,'], ['all'], ['of'], ['which'], ['are'], ['confirmed'], ['as'], ['not'], ['protected'], ['by'], ['copyright'], ['in', 'the'], ['U.S.'], ['unless'], ['a'], ['copyright'], ['notice'], ['is'], ['included.'], ['Thus,'], ['we'], ['do'], ['not', 'necessarily'], ['keep'], ['eBooks'], ['in'], ['compliance'], ['with'], ['any'], ['particular'], ['paper', 'edition.', '', 'Most'], ['people'], ['start'], ['at'], ['our'], ['Web'], ['site'], ['which'], ['has'], ['the'], ['main'], ['PG'], ['search', 'facility:'], ['www.gutenberg.org', '', 'This'], ['Web'], ['site'], ['includes'], ['information'], ['about'], ['Project'], ['Gutenberg-tm,', 'including'], ['how'], ['to'], ['make'], ['donations'], ['to'], ['the'], ['Project'], ['Gutenberg'], ['Literary', 'Archive'], ['Foundation,'], ['how'], ['to'], ['help'], ['produce'], ['our'], ['new'], ['eBooks,'], ['and'], ['how'], ['to', 'subscribe'], ['to'], ['our'], ['email'], ['newsletter'], ['to'], ['hear'], ['about'], ['new'], ['eBooks.', '', '']]\n"
    }
   ],
   "source": [
    "# Your code here:\n",
    "\n",
    "prophet_line = list(map(line_break,prophet_reference))\n",
    "\n",
    "print(prophet_line)\n"
   ]
  },
  {
   "cell_type": "markdown",
   "metadata": {},
   "source": [
    "If you look at the elements of `prophet_line`, you will see that the function returned lists and not strings. Our list is now a list of lists. Flatten the list using list comprehension. Assign this new list to `prophet_flat`."
   ]
  },
  {
   "cell_type": "code",
   "execution_count": 15,
   "metadata": {},
   "outputs": [
    {
     "name": "stdout",
     "output_type": "stream",
     "text": ", 'cost', 'and', 'with', 'almost', 'no', '', '', 'restrictions', 'whatsoever.', 'You', 'may', 'copy', 'it,', 'give', 'it', 'away', 'or', 're-use', 'it', '', '', 'under', 'the', 'terms', 'of', 'the', 'Project', 'Gutenberg', 'License', 'included', 'with', 'this', '', '', 'eBook', 'or', 'online', 'at', 'www.gutenberg.org.', 'If', 'you', 'are', 'not', 'located', 'in', 'the', '', '', 'United', 'States,', \"you'll\", 'have', 'to', 'check', 'the', 'laws', 'of', 'the', 'country', 'where', 'you', '', '', 'are', 'located', 'before', 'using', 'this', 'ebook.', '', '1.E.2.', 'If', 'an', 'individual', 'Project', 'Gutenberg-tm', 'electronic', 'work', 'is', 'derived', 'from', 'texts', 'not', 'protected', 'by', 'U.S.', 'copyright', 'law', '(does', 'not', 'contain', 'a', 'notice', 'indicating', 'that', 'it', 'is', 'posted', 'with', 'permission', 'of', 'the', 'copyright', 'holder),', 'the', 'work', 'can', 'be', 'copied', 'and', 'distributed', 'to', 'anyone', 'in', 'the', 'United', 'States', 'without', 'paying', 'any', 'fees', 'or', 'charges.', 'If', 'you', 'are', 'redistributing', 'or', 'providing', 'access', 'to', 'a', 'work', 'with', 'the', 'phrase', '\"Project', 'Gutenberg\"', 'associated', 'with', 'or', 'appearing', 'on', 'the', 'work,', 'you', 'must', 'comply', 'either', 'with', 'the', 'requirements', 'of', 'paragraphs', '1.E.1', 'through', '1.E.7', 'or', 'obtain', 'permission', 'for', 'the', 'use', 'of', 'the', 'work', 'and', 'the', 'Project', 'Gutenberg-tm', 'trademark', 'as', 'set', 'forth', 'in', 'paragraphs', '1.E.8', 'or', '1.E.9.', '', '1.E.3.', 'If', 'an', 'individual', 'Project', 'Gutenberg-tm', 'electronic', 'work', 'is', 'posted', 'with', 'the', 'permission', 'of', 'the', 'copyright', 'holder,', 'your', 'use', 'and', 'distribution', 'must', 'comply', 'with', 'both', 'paragraphs', '1.E.1', 'through', '1.E.7', 'and', 'any', 'additional', 'terms', 'imposed', 'by', 'the', 'copyright', 'holder.', 'Additional', 'terms', 'will', 'be', 'linked', 'to', 'the', 'Project', 'Gutenberg-tm', 'License', 'for', 'all', 'works', 'posted', 'with', 'the', 'permission', 'of', 'the', 'copyright', 'holder', 'found', 'at', 'the', 'beginning', 'of', 'this', 'work.', '', '1.E.4.', 'Do', 'not', 'unlink', 'or', 'detach', 'or', 'remove', 'the', 'full', 'Project', 'Gutenberg-tm', 'License', 'terms', 'from', 'this', 'work,', 'or', 'any', 'files', 'containing', 'a', 'part', 'of', 'this', 'work', 'or', 'any', 'other', 'work', 'associated', 'with', 'Project', 'Gutenberg-tm.', '', '1.E.5.', 'Do', 'not', 'copy,', 'display,', 'perform,', 'distribute', 'or', 'redistribute', 'this', 'electronic', 'work,', 'or', 'any', 'part', 'of', 'this', 'electronic', 'work,', 'without', 'prominently', 'displaying', 'the', 'sentence', 'set', 'forth', 'in', 'paragraph', '1.E.1', 'with', 'active', 'links', 'or', 'immediate', 'access', 'to', 'the', 'full', 'terms', 'of', 'the', 'Project', 'Gutenberg-tm', 'License.', '', '1.E.6.', 'You', 'may', 'convert', 'to', 'and', 'distribute', 'this', 'work', 'in', 'any', 'binary,', 'compressed,', 'marked', 'up,', 'nonproprietary', 'or', 'proprietary', 'form,', 'including', 'any', 'word', 'processing', 'or', 'hypertext', 'form.', 'However,', 'if', 'you', 'provide', 'access', 'to', 'or', 'distribute', 'copies', 'of', 'a', 'Project', 'Gutenberg-tm', 'work', 'in', 'a', 'format', 'other', 'than', '\"Plain', 'Vanilla', 'ASCII\"', 'or', 'other', 'format', 'used', 'in', 'the', 'official', 'version', 'posted', 'on', 'the', 'official', 'Project', 'Gutenberg-tm', 'web', 'site', '(www.gutenberg.org),', 'you', 'must,', 'at', 'no', 'additional', 'cost,', 'fee', 'or', 'expense', 'to', 'the', 'user,', 'provide', 'a', 'copy,', 'a', 'means', 'of', 'exporting', 'a', 'copy,', 'or', 'a', 'means', 'of', 'obtaining', 'a', 'copy', 'upon', 'request,', 'of', 'the', 'work', 'in', 'its', 'original', '\"Plain', 'Vanilla', 'ASCII\"', 'or', 'other', 'form.', 'Any', 'alternate', 'format', 'must', 'include', 'the', 'full', 'Project', 'Gutenberg-tm', 'License', 'as', 'specified', 'in', 'paragraph', '1.E.1.', '', '1.E.7.', 'Do', 'not', 'charge', 'a', 'fee', 'for', 'access', 'to,', 'viewing,', 'displaying,', 'performing,', 'copying', 'or', 'distributing', 'any', 'Project', 'Gutenberg-tm', 'works', 'unless', 'you', 'comply', 'with', 'paragraph', '1.E.8', 'or', '1.E.9.', '', '1.E.8.', 'You', 'may', 'charge', 'a', 'reasonable', 'fee', 'for', 'copies', 'of', 'or', 'providing', 'access', 'to', 'or', 'distributing', 'Project', 'Gutenberg-tm', 'electronic', 'works', 'provided', 'that', '', '*', 'You', 'pay', 'a', 'royalty', 'fee', 'of', '20%', 'of', 'the', 'gross', 'profits', 'you', 'derive', 'from', '', '', 'the', 'use', 'of', 'Project', 'Gutenberg-tm', 'works', 'calculated', 'using', 'the', 'method', '', '', 'you', 'already', 'use', 'to', 'calculate', 'your', 'applicable', 'taxes.', 'The', 'fee', 'is', 'owed', '', '', 'to', 'the', 'owner', 'of', 'the', 'Project', 'Gutenberg-tm', 'trademark,', 'but', 'he', 'has', '', '', 'agreed', 'to', 'donate', 'royalties', 'under', 'this', 'paragraph', 'to', 'the', 'Project', '', '', 'Gutenberg', 'Literary', 'Archive', 'Foundation.', 'Royalty', 'payments', 'must', 'be', 'paid', '', '', 'within', '60', 'days', 'following', 'each', 'date', 'on', 'which', 'you', 'prepare', '(or', 'are', '', '', 'legally', 'required', 'to', 'prepare)', 'your', 'periodic', 'tax', 'returns.', 'Royalty', '', '', 'payments', 'should', 'be', 'clearly', 'marked', 'as', 'such', 'and', 'sent', 'to', 'the', 'Project', '', '', 'Gutenberg', 'Literary', 'Archive', 'Foundation', 'at', 'the', 'address', 'specified', 'in', '', '', 'Section', '4,', '\"Information', 'about', 'donations', 'to', 'the', 'Project', 'Gutenberg', '', '', 'Literary', 'Archive', 'Foundation.\"', '', '*', 'You', 'provide', 'a', 'full', 'refund', 'of', 'any', 'money', 'paid', 'by', 'a', 'user', 'who', 'notifies', '', '', 'you', 'in', 'writing', '(or', 'by', 'e-mail)', 'within', '30', 'days', 'of', 'receipt', 'that', 's/he', '', '', 'does', 'not', 'agree', 'to', 'the', 'terms', 'of', 'the', 'full', 'Project', 'Gutenberg-tm', '', '', 'License.', 'You', 'must', 'require', 'such', 'a', 'user', 'to', 'return', 'or', 'destroy', 'all', '', '', 'copies', 'of', 'the', 'works', 'possessed', 'in', 'a', 'physical', 'medium', 'and', 'discontinue', '', '', 'all', 'use', 'of', 'and', 'all', 'access', 'to', 'other', 'copies', 'of', 'Project', 'Gutenberg-tm', '', '', 'works.', '', '*', 'You', 'provide,', 'in', 'accordance', 'with', 'paragraph', '1.F.3,', 'a', 'full', 'refund', 'of', '', '', 'any', 'money', 'paid', 'for', 'a', 'work', 'or', 'a', 'replacement', 'copy,', 'if', 'a', 'defect', 'in', 'the', '', '', 'electronic', 'work', 'is', 'discovered', 'and', 'reported', 'to', 'you', 'within', '90', 'days', 'of', '', '', 'receipt', 'of', 'the', 'work.', '', '*', 'You', 'comply', 'with', 'all', 'other', 'terms', 'of', 'this', 'agreement', 'for', 'free', '', '', 'distribution', 'of', 'Project', 'Gutenberg-tm', 'works.', '', '1.E.9.', 'If', 'you', 'wish', 'to', 'charge', 'a', 'fee', 'or', 'distribute', 'a', 'Project', 'Gutenberg-tm', 'electronic', 'work', 'or', 'group', 'of', 'works', 'on', 'different', 'terms', 'than', 'are', 'set', 'forth', 'in', 'this', 'agreement,', 'you', 'must', 'obtain', 'permission', 'in', 'writing', 'from', 'both', 'the', 'Project', 'Gutenberg', 'Literary', 'Archive', 'Foundation', 'and', 'The', 'Project', 'Gutenberg', 'Trademark', 'LLC,', 'the', 'owner', 'of', 'the', 'Project', 'Gutenberg-tm', 'trademark.', 'Contact', 'the', 'Foundation', 'as', 'set', 'forth', 'in', 'Section', '3', 'below.', '', '1.F.', '', '1.F.1.', 'Project', 'Gutenberg', 'volunteers', 'and', 'employees', 'expend', 'considerable', 'effort', 'to', 'identify,', 'do', 'copyright', 'research', 'on,', 'transcribe', 'and', 'proofread', 'works', 'not', 'protected', 'by', 'U.S.', 'copyright', 'law', 'in', 'creating', 'the', 'Project', 'Gutenberg-tm', 'collection.', 'Despite', 'these', 'efforts,', 'Project', 'Gutenberg-tm', 'electronic', 'works,', 'and', 'the', 'medium', 'on', 'which', 'they', 'may', 'be', 'stored,', 'may', 'contain', '\"Defects,\"', 'such', 'as,', 'but', 'not', 'limited', 'to,', 'incomplete,', 'inaccurate', 'or', 'corrupt', 'data,', 'transcription', 'errors,', 'a', 'copyright', 'or', 'other', 'intellectual', 'property', 'infringement,', 'a', 'defective', 'or', 'damaged', 'disk', 'or', 'other', 'medium,', 'a', 'computer', 'virus,', 'or', 'computer', 'codes', 'that', 'damage', 'or', 'cannot', 'be', 'read', 'by', 'your', 'equipment.', '', '1.F.2.', 'LIMITED', 'WARRANTY,', 'DISCLAIMER', 'OF', 'DAMAGES', '-', 'Except', 'for', 'the', '\"Right', 'of', 'Replacement', 'or', 'Refund\"', 'described', 'in', 'paragraph', '1.F.3,', 'the', 'Project', 'Gutenberg', 'Literary', 'Archive', 'Foundation,', 'the', 'owner', 'of', 'the', 'Project', 'Gutenberg-tm', 'trademark,', 'and', 'any', 'other', 'party', 'distributing', 'a', 'Project', 'Gutenberg-tm', 'electronic', 'work', 'under', 'this', 'agreement,', 'disclaim', 'all', 'liability', 'to', 'you', 'for', 'damages,', 'costs', 'and', 'expenses,', 'including', 'legal', 'fees.', 'YOU', 'AGREE', 'THAT', 'YOU', 'HAVE', 'NO', 'REMEDIES', 'FOR', 'NEGLIGENCE,', 'STRICT', 'LIABILITY,', 'BREACH', 'OF', 'WARRANTY', 'OR', 'BREACH', 'OF', 'CONTRACT', 'EXCEPT', 'THOSE', 'PROVIDED', 'IN', 'PARAGRAPH', '1.F.3.', 'YOU', 'AGREE', 'THAT', 'THE', 'FOUNDATION,', 'THE', 'TRADEMARK', 'OWNER,', 'AND', 'ANY', 'DISTRIBUTOR', 'UNDER', 'THIS', 'AGREEMENT', 'WILL', 'NOT', 'BE', 'LIABLE', 'TO', 'YOU', 'FOR', 'ACTUAL,', 'DIRECT,', 'INDIRECT,', 'CONSEQUENTIAL,', 'PUNITIVE', 'OR', 'INCIDENTAL', 'DAMAGES', 'EVEN', 'IF', 'YOU', 'GIVE', 'NOTICE', 'OF', 'THE', 'POSSIBILITY', 'OF', 'SUCH', 'DAMAGE.', '', '1.F.3.', 'LIMITED', 'RIGHT', 'OF', 'REPLACEMENT', 'OR', 'REFUND', '-', 'If', 'you', 'discover', 'a', 'defect', 'in', 'this', 'electronic', 'work', 'within', '90', 'days', 'of', 'receiving', 'it,', 'you', 'can', 'receive', 'a', 'refund', 'of', 'the', 'money', '(if', 'any)', 'you', 'paid', 'for', 'it', 'by', 'sending', 'a', 'written', 'explanation', 'to', 'the', 'person', 'you', 'received', 'the', 'work', 'from.', 'If', 'you', 'received', 'the', 'work', 'on', 'a', 'physical', 'medium,', 'you', 'must', 'return', 'the', 'medium', 'with', 'your', 'written', 'explanation.', 'The', 'person', 'or', 'entity', 'that', 'provided', 'you', 'with', 'the', 'defective', 'work', 'may', 'elect', 'to', 'provide', 'a', 'replacement', 'copy', 'in', 'lieu', 'of', 'a', 'refund.', 'If', 'you', 'received', 'the', 'work', 'electronically,', 'the', 'person', 'or', 'entity', 'providing', 'it', 'to', 'you', 'may', 'choose', 'to', 'give', 'you', 'a', 'second', 'opportunity', 'to', 'receive', 'the', 'work', 'electronically', 'in', 'lieu', 'of', 'a', 'refund.', 'If', 'the', 'second', 'copy', 'is', 'also', 'defective,', 'you', 'may', 'demand', 'a', 'refund', 'in', 'writing', 'without', 'further', 'opportunities', 'to', 'fix', 'the', 'problem.', '', '1.F.4.', 'Except', 'for', 'the', 'limited', 'right', 'of', 'replacement', 'or', 'refund', 'set', 'forth', 'in', 'paragraph', '1.F.3,', 'this', 'work', 'is', 'provided', 'to', 'you', \"'AS-IS',\", 'WITH', 'NO', 'OTHER', 'WARRANTIES', 'OF', 'ANY', 'KIND,', 'EXPRESS', 'OR', 'IMPLIED,', 'INCLUDING', 'BUT', 'NOT', 'LIMITED', 'TO', 'WARRANTIES', 'OF', 'MERCHANTABILITY', 'OR', 'FITNESS', 'FOR', 'ANY', 'PURPOSE.', '', '1.F.5.', 'Some', 'states', 'do', 'not', 'allow', 'disclaimers', 'of', 'certain', 'implied', 'warranties', 'or', 'the', 'exclusion', 'or', 'limitation', 'of', 'certain', 'types', 'of', 'damages.', 'If', 'any', 'disclaimer', 'or', 'limitation', 'set', 'forth', 'in', 'this', 'agreement', 'violates', 'the', 'law', 'of', 'the', 'state', 'applicable', 'to', 'this', 'agreement,', 'the', 'agreement', 'shall', 'be', 'interpreted', 'to', 'make', 'the', 'maximum', 'disclaimer', 'or', 'limitation', 'permitted', 'by', 'the', 'applicable', 'state', 'law.', 'The', 'invalidity', 'or', 'unenforceability', 'of', 'any', 'provision', 'of', 'this', 'agreement', 'shall', 'not', 'void', 'the', 'remaining', 'provisions.', '', '1.F.6.', 'INDEMNITY', '-', 'You', 'agree', 'to', 'indemnify', 'and', 'hold', 'the', 'Foundation,', 'the', 'trademark', 'owner,', 'any', 'agent', 'or', 'employee', 'of', 'the', 'Foundation,', 'anyone', 'providing', 'copies', 'of', 'Project', 'Gutenberg-tm', 'electronic', 'works', 'in', 'accordance', 'with', 'this', 'agreement,', 'and', 'any', 'volunteers', 'associated', 'with', 'the', 'production,', 'promotion', 'and', 'distribution', 'of', 'Project', 'Gutenberg-tm', 'electronic', 'works,', 'harmless', 'from', 'all', 'liability,', 'costs', 'and', 'expenses,', 'including', 'legal', 'fees,', 'that', 'arise', 'directly', 'or', 'indirectly', 'from', 'any', 'of', 'the', 'following', 'which', 'you', 'do', 'or', 'cause', 'to', 'occur:', '(a)', 'distribution', 'of', 'this', 'or', 'any', 'Project', 'Gutenberg-tm', 'work,', '(b)', 'alteration,', 'modification,', 'or', 'additions', 'or', 'deletions', 'to', 'any', 'Project', 'Gutenberg-tm', 'work,', 'and', '(c)', 'any', 'Defect', 'you', 'cause.', '', 'Section', '2.', 'Information', 'about', 'the', 'Mission', 'of', 'Project', 'Gutenberg-tm', '', 'Project', 'Gutenberg-tm', 'is', 'synonymous', 'with', 'the', 'free', 'distribution', 'of', 'electronic', 'works', 'in', 'formats', 'readable', 'by', 'the', 'widest', 'variety', 'of', 'computers', 'including', 'obsolete,', 'old,', 'middle-aged', 'and', 'new', 'computers.', 'It', 'exists', 'because', 'of', 'the', 'efforts', 'of', 'hundreds', 'of', 'volunteers', 'and', 'donations', 'from', 'people', 'in', 'all', 'walks', 'of', 'life.', '', 'Volunteers', 'and', 'financial', 'support', 'to', 'provide', 'volunteers', 'with', 'the', 'assistance', 'they', 'need', 'are', 'critical', 'to', 'reaching', 'Project', \"Gutenberg-tm's\", 'goals', 'and', 'ensuring', 'that', 'the', 'Project', 'Gutenberg-tm', 'collection', 'will', 'remain', 'freely', 'available', 'for', 'generations', 'to', 'come.', 'In', '2001,', 'the', 'Project', 'Gutenberg', 'Literary', 'Archive', 'Foundation', 'was', 'created', 'to', 'provide', 'a', 'secure', 'and', 'permanent', 'future', 'for', 'Project', 'Gutenberg-tm', 'and', 'future', 'generations.', 'To', 'learn', 'more', 'about', 'the', 'Project', 'Gutenberg', 'Literary', 'Archive', 'Foundation', 'and', 'how', 'your', 'efforts', 'and', 'donations', 'can', 'help,', 'see', 'Sections', '3', 'and', '4', 'and', 'the', 'Foundation', 'information', 'page', 'at', 'www.gutenberg.org', 'Section', '3.', 'Information', 'about', 'the', 'Project', 'Gutenberg', 'Literary', 'Archive', 'Foundation', '', 'The', 'Project', 'Gutenberg', 'Literary', 'Archive', 'Foundation', 'is', 'a', 'non', 'profit', '501(c)(3)', 'educational', 'corporation', 'organized', 'under', 'the', 'laws', 'of', 'the', 'state', 'of', 'Mississippi', 'and', 'granted', 'tax', 'exempt', 'status', 'by', 'the', 'Internal', 'Revenue', 'Service.', 'The', \"Foundation's\", 'EIN', 'or', 'federal', 'tax', 'identification', 'number', 'is', '64-6221541.', 'Contributions', 'to', 'the', 'Project', 'Gutenberg', 'Literary', 'Archive', 'Foundation', 'are', 'tax', 'deductible', 'to', 'the', 'full', 'extent', 'permitted', 'by', 'U.S.', 'federal', 'laws', 'and', 'your', \"state's\", 'laws.', '', 'The', \"Foundation's\", 'principal', 'office', 'is', 'in', 'Fairbanks,', 'Alaska,', 'with', 'the', 'mailing', 'address:', 'PO', 'Box', '750175,', 'Fairbanks,', 'AK', '99775,', 'but', 'its', 'volunteers', 'and', 'employees', 'are', 'scattered', 'throughout', 'numerous', 'locations.', 'Its', 'business', 'office', 'is', 'located', 'at', '809', 'North', '1500', 'West,', 'Salt', 'Lake', 'City,', 'UT', '84116,', '(801)', '596-1887.', 'Email', 'contact', 'links', 'and', 'up', 'to', 'date', 'contact', 'information', 'can', 'be', 'found', 'at', 'the', \"Foundation's\", 'web', 'site', 'and', 'official', 'page', 'at', 'www.gutenberg.org/contact', '', 'For', 'additional', 'contact', 'information:', '', '', '', '', '', 'Dr.', 'Gregory', 'B.', 'Newby', '', '', '', '', 'Chief', 'Executive', 'and', 'Director', '', '', '', '', 'gbnewby@pglaf.org', '', 'Section', '4.', 'Information', 'about', 'Donations', 'to', 'the', 'Project', 'Gutenberg', 'Literary', 'Archive', 'Foundation', '', 'Project', 'Gutenberg-tm', 'depends', 'upon', 'and', 'cannot', 'survive', 'without', 'wide', 'spread', 'public', 'support', 'and', 'donations', 'to', 'carry', 'out', 'its', 'mission', 'of', 'increasing', 'the', 'number', 'of', 'public', 'domain', 'and', 'licensed', 'works', 'that', 'can', 'be', 'freely', 'distributed', 'in', 'machine', 'readable', 'form', 'accessible', 'by', 'the', 'widest', 'array', 'of', 'equipment', 'including', 'outdated', 'equipment.', 'Many', 'small', 'donations', '($1', 'to', '$5,000)', 'are', 'particularly', 'important', 'to', 'maintaining', 'tax', 'exempt', 'status', 'with', 'the', 'IRS.', '', 'The', 'Foundation', 'is', 'committed', 'to', 'complying', 'with', 'the', 'laws', 'regulating', 'charities', 'and', 'charitable', 'donations', 'in', 'all', '50', 'states', 'of', 'the', 'United', 'States.', 'Compliance', 'requirements', 'are', 'not', 'uniform', 'and', 'it', 'takes', 'a', 'considerable', 'effort,', 'much', 'paperwork', 'and', 'many', 'fees', 'to', 'meet', 'and', 'keep', 'up', 'with', 'these', 'requirements.', 'We', 'do', 'not', 'solicit', 'donations', 'in', 'locations', 'where', 'we', 'have', 'not', 'received', 'written', 'confirmation', 'of', 'compliance.', 'To', 'SEND', 'DONATIONS', 'or', 'determine', 'the', 'status', 'of', 'compliance', 'for', 'any', 'particular', 'state', 'visit', 'www.gutenberg.org/donate', '', 'While', 'we', 'cannot', 'and', 'do', 'not', 'solicit', 'contributions', 'from', 'states', 'where', 'we', 'have', 'not', 'met', 'the', 'solicitation', 'requirements,', 'we', 'know', 'of', 'no', 'prohibition', 'against', 'accepting', 'unsolicited', 'donations', 'from', 'donors', 'in', 'such', 'states', 'who', 'approach', 'us', 'with', 'offers', 'to', 'donate.', '', 'International', 'donations', 'are', 'gratefully', 'accepted,', 'but', 'we', 'cannot', 'make', 'any', 'statements', 'concerning', 'tax', 'treatment', 'of', 'donations', 'received', 'from', 'outside', 'the', 'United', 'States.', 'U.S.', 'laws', 'alone', 'swamp', 'our', 'small', 'staff.', '', 'Please', 'check', 'the', 'Project', 'Gutenberg', 'Web', 'pages', 'for', 'current', 'donation', 'methods', 'and', 'addresses.', 'Donations', 'are', 'accepted', 'in', 'a', 'number', 'of', 'other', 'ways', 'including', 'checks,', 'online', 'payments', 'and', 'credit', 'card', 'donations.', 'To', 'donate,', 'please', 'visit:', 'www.gutenberg.org/donate', '', 'Section', '5.', 'General', 'Information', 'About', 'Project', 'Gutenberg-tm', 'electronic', 'works.', '', 'Professor', 'Michael', 'S.', 'Hart', 'was', 'the', 'originator', 'of', 'the', 'Project', 'Gutenberg-tm', 'concept', 'of', 'a', 'library', 'of', 'electronic', 'works', 'that', 'could', 'be', 'freely', 'shared', 'with', 'anyone.', 'For', 'forty', 'years,', 'he', 'produced', 'and', 'distributed', 'Project', 'Gutenberg-tm', 'eBooks', 'with', 'only', 'a', 'loose', 'network', 'of', 'volunteer', 'support.', '', 'Project', 'Gutenberg-tm', 'eBooks', 'are', 'often', 'created', 'from', 'several', 'printed', 'editions,', 'all', 'of', 'which', 'are', 'confirmed', 'as', 'not', 'protected', 'by', 'copyright', 'in', 'the', 'U.S.', 'unless', 'a', 'copyright', 'notice', 'is', 'included.', 'Thus,', 'we', 'do', 'not', 'necessarily', 'keep', 'eBooks', 'in', 'compliance', 'with', 'any', 'particular', 'paper', 'edition.', '', 'Most', 'people', 'start', 'at', 'our', 'Web', 'site', 'which', 'has', 'the', 'main', 'PG', 'search', 'facility:', 'www.gutenberg.org', '', 'This', 'Web', 'site', 'includes', 'information', 'about', 'Project', 'Gutenberg-tm,', 'including', 'how', 'to', 'make', 'donations', 'to', 'the', 'Project', 'Gutenberg', 'Literary', 'Archive', 'Foundation,', 'how', 'to', 'help', 'produce', 'our', 'new', 'eBooks,', 'and', 'how', 'to', 'subscribe', 'to', 'our', 'email', 'newsletter', 'to', 'hear', 'about', 'new', 'eBooks.', '', '']\n"
    }
   ],
   "source": [
    "# Your code here:\n",
    "\n",
    "prophet_flat = [item for e in prophet_line for item in e]\n",
    "print(prophet_flat)\n"
   ]
  },
  {
   "cell_type": "markdown",
   "metadata": {},
   "source": [
    "# Challenge 2 - Filtering\n",
    "\n",
    "When printing out a few words from the book, we see that there are words that we may not want to keep if we choose to analyze the corpus of text. Below is a list of words that we would like to get rid of. Create a function that will return false if it contains a word from the list of words specified and true otherwise."
   ]
  },
  {
   "cell_type": "code",
   "execution_count": 114,
   "metadata": {},
   "outputs": [],
   "source": [
    "def word_filter(x):\n",
    "    '''\n",
    "    Input: A string\n",
    "    Output: true if the word is not in the specified list and false if the word is in the list\n",
    "        \n",
    "    Example:\n",
    "    word list = ['and', 'the']\n",
    "    Input: 'and'\n",
    "    Output: False\n",
    "    \n",
    "    Input: 'John'\n",
    "    Output: True\n",
    "    '''\n",
    "    \n",
    "    word_list = ['and', 'the', 'a', 'an']\n",
    "    \n",
    "    # Your code here:\n",
    "\n",
    "        "
   ]
  },
  {
   "cell_type": "code",
   "execution_count": 120,
   "metadata": {},
   "outputs": [
    {
     "data": {
      "text/plain": "True"
     },
     "execution_count": 120,
     "metadata": {},
     "output_type": "execute_result"
    }
   ],
   "source": [
    "y=('John the hhis dog')\n",
    "word_filter(y)"
   ]
  },
  {
   "cell_type": "markdown",
   "metadata": {},
   "source": [
    "    Use the `filter()` function to filter out the words speficied in the `word_filter()` function. Store the filtered list in the variable `prophet_filter`."
   ]
  },
  {
   "cell_type": "code",
   "execution_count": null,
   "metadata": {},
   "outputs": [],
   "source": []
  },
  {
   "cell_type": "markdown",
   "metadata": {},
   "source": [
    "# Bonus Challenge - Part 1\n",
    "\n",
    "Rewrite the `word_filter` function above to not be case sensitive."
   ]
  },
  {
   "cell_type": "code",
   "execution_count": 105,
   "metadata": {},
   "outputs": [],
   "source": [
    "def word_filter_case(x):\n",
    "   \n",
    "    word_list = ['and', 'the', 'a', 'an']\n",
    "    \n",
    "    # Your code here:\n",
    "    \n",
    "    "
   ]
  },
  {
   "cell_type": "markdown",
   "metadata": {},
   "source": [
    "# Challenge 3 - Reducing\n",
    "\n",
    "#### Now that we have significantly cleaned up our text corpus, let's use the `reduce()` function to put the words back together into one long string separated by spaces. \n",
    "\n",
    "We will start by writing a function that takes two strings and concatenates them together with a space between the two strings."
   ]
  },
  {
   "cell_type": "code",
   "execution_count": 106,
   "metadata": {},
   "outputs": [],
   "source": [
    "def concat_space(a, b):\n",
    "    '''\n",
    "    Input:Two strings\n",
    "    Output: A single string separated by a space\n",
    "        \n",
    "    Example:\n",
    "    Input: 'John', 'Smith'\n",
    "    Output: 'John Smith'\n",
    "    '''\n",
    "    \n",
    "    # Your code here:\n",
    "    "
   ]
  },
  {
   "cell_type": "markdown",
   "metadata": {},
   "source": [
    "Use the function above to reduce the text corpus in the list `prophet_filter` into a single string. Assign this new string to the variable `prophet_string`."
   ]
  },
  {
   "cell_type": "code",
   "execution_count": 107,
   "metadata": {},
   "outputs": [],
   "source": [
    "# Your code here:\n",
    "\n"
   ]
  },
  {
   "cell_type": "markdown",
   "metadata": {},
   "source": [
    "# Challenge 4 - Applying Functions to DataFrames\n",
    "\n",
    "#### Our next step is to use the apply function to a dataframe and transform all cells.\n",
    "\n",
    "To do this, we will load a dataset below and then write a function that will perform the transformation."
   ]
  },
  {
   "cell_type": "code",
   "execution_count": 108,
   "metadata": {},
   "outputs": [],
   "source": [
    "# Run this code:\n",
    "\n",
    "# The dataset below contains information about pollution from PM2.5 particles in Beijing \n",
    "\n",
    "url = \"https://archive.ics.uci.edu/ml/machine-learning-databases/00381/PRSA_data_2010.1.1-2014.12.31.csv\"\n",
    "pm25 = pd.read_csv(url)"
   ]
  },
  {
   "cell_type": "markdown",
   "metadata": {},
   "source": [
    "Let's look at the data using the `head()` function."
   ]
  },
  {
   "cell_type": "code",
   "execution_count": 109,
   "metadata": {},
   "outputs": [],
   "source": [
    "# Your code here:\n",
    "\n"
   ]
  },
  {
   "cell_type": "markdown",
   "metadata": {},
   "source": [
    "The next step is to create a function that divides a cell by 24 to produce an hourly figure. Write the function below."
   ]
  },
  {
   "cell_type": "code",
   "execution_count": 110,
   "metadata": {},
   "outputs": [],
   "source": [
    "def hourly(x):\n",
    "    '''\n",
    "    Input: A numerical value\n",
    "    Output: The value divided by 24\n",
    "        \n",
    "    Example:\n",
    "    Input: 48\n",
    "    Output: 2.0\n",
    "    '''\n",
    "    \n",
    "    # Your code here:\n",
    "    "
   ]
  },
  {
   "cell_type": "markdown",
   "metadata": {},
   "source": [
    "Apply this function to the columns `Iws`, `Is`, and `Ir`. Store this new dataframe in the variable `pm25_hourly`."
   ]
  },
  {
   "cell_type": "code",
   "execution_count": 111,
   "metadata": {},
   "outputs": [],
   "source": [
    "# Your code here:\n",
    "\n"
   ]
  },
  {
   "cell_type": "markdown",
   "metadata": {},
   "source": [
    "#### Our last challenge will be to create an aggregate function and apply it to a select group of columns in our dataframe.\n",
    "\n",
    "Write a function that returns the standard deviation of a column divided by the length of a column minus 1. Since we are using pandas, do not use the `len()` function. One alternative is to use `count()`. Also, use the numpy version of standard deviation."
   ]
  },
  {
   "cell_type": "code",
   "execution_count": 112,
   "metadata": {},
   "outputs": [],
   "source": [
    "def sample_sd(x):\n",
    "    '''\n",
    "    Input: A Pandas series of values\n",
    "    Output: the standard deviation divided by the number of elements in the series\n",
    "        \n",
    "    Example:\n",
    "    Input: pd.Series([1,2,3,4])\n",
    "    Output: 0.3726779962\n",
    "    '''\n",
    "    \n",
    "    # Your code here:\n",
    "    \n",
    "    "
   ]
  },
  {
   "cell_type": "code",
   "execution_count": null,
   "metadata": {},
   "outputs": [],
   "source": []
  }
 ],
 "metadata": {
  "kernelspec": {
   "display_name": "Python 3",
   "language": "python",
   "name": "python3"
  },
  "language_info": {
   "codemirror_mode": {
    "name": "ipython",
    "version": 3
   },
   "file_extension": ".py",
   "mimetype": "text/x-python",
   "name": "python",
   "nbconvert_exporter": "python",
   "pygments_lexer": "ipython3",
   "version": "3.6.6"
  }
 },
 "nbformat": 4,
 "nbformat_minor": 2
}