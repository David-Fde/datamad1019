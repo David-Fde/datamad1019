{
 "cells": [
  {
   "cell_type": "code",
   "execution_count": 55,
   "metadata": {},
   "outputs": [],
   "source": [
    "import os\n",
    "from dotenv import load_dotenv\n",
    "import requests\n",
    "load_dotenv()\n",
    "import json\n",
    "import re\n",
    "\n",
    "# https://developer.github.com/v3/\n",
    "def githubRequestAuthorized(resource):\n",
    "    authToken = os.getenv(\"Token\")\n",
    "    if not authToken:\n",
    "        raise ValueError(\"NECESITAS UN TOKEN\")\n",
    "    headers = {\n",
    "        \"Authorization\": \"token {}\".format(authToken)\n",
    "    }\n",
    "    url = \"https://api.github.com{}\".format(resource)\n",
    "    print(\"Requesting authorized {}\".format(url))\n",
    "    res = requests.get(url, headers=headers)\n",
    "    return res"
   ]
  },
  {
   "cell_type": "code",
   "execution_count": 67,
   "metadata": {},
   "outputs": [
    {
     "name": "stdout",
     "output_type": "stream",
     "text": [
      "Requesting authorized https://api.github.com/repos/ironhack-datalabs/madrid-oct-2018/forks\n"
     ]
    }
   ],
   "source": [
    "data = githubRequestAuthorized('/repos/ironhack-datalabs/madrid-oct-2018/forks').json()"
   ]
  },
  {
   "cell_type": "code",
   "execution_count": 68,
   "metadata": {},
   "outputs": [],
   "source": [
    "x = [i['language'] for i in data]"
   ]
  },
  {
   "cell_type": "code",
   "execution_count": 69,
   "metadata": {},
   "outputs": [
    {
     "name": "stdout",
     "output_type": "stream",
     "text": [
      "{'Jupyter Notebook', 'HTML', 'Python'}\n"
     ]
    }
   ],
   "source": [
    "print(set(x))"
   ]
  }
 ],
 "metadata": {
  "kernelspec": {
   "display_name": "Python 3",
   "language": "python",
   "name": "python3"
  },
  "language_info": {
   "codemirror_mode": {
    "name": "ipython",
    "version": 3
   },
   "file_extension": ".py",
   "mimetype": "text/x-python",
   "name": "python",
   "nbconvert_exporter": "python",
   "pygments_lexer": "ipython3",
   "version": "3.6.8"
  }
 },
 "nbformat": 4,
 "nbformat_minor": 2
}
