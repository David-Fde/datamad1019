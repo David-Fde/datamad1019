{
 "cells": [
  {
   "cell_type": "markdown",
   "metadata": {},
   "source": [
    "# Web Scraping Lab\n",
    "\n",
    "You will find in this notebook some scrapy exercises to practise your scraping skills.\n",
    "\n",
    "**Tips:**\n",
    "\n",
    "- Check the response status code for each request to ensure you have obtained the intended contennt.\n",
    "- Print the response text in each request to understand the kind of info you are getting and its format.\n",
    "- Check for patterns in the response text to extract the data/info requested in each question.\n",
    "- Visit each url and take a look at its source through Chrome DevTools. You'll need to identify the html tags, special class names etc. used for the html content you are expected to extract."
   ]
  },
  {
   "cell_type": "markdown",
   "metadata": {},
   "source": [
    "- [Requests library](http://docs.python-requests.org/en/master/#the-user-guide) documentation \n",
    "- [Beautiful Soup Doc](https://www.crummy.com/software/BeautifulSoup/bs4/doc/)\n",
    "- [Urllib](https://docs.python.org/3/library/urllib.html#module-urllib)\n",
    "- [re lib](https://docs.python.org/3/library/re.html)\n",
    "- [lxml lib](https://lxml.de/)\n",
    "- [Scrapy](https://scrapy.org/)\n",
    "- [List of HTTP status codes](https://en.wikipedia.org/wiki/List_of_HTTP_status_codes)\n",
    "- [HTML basics](http://www.simplehtmlguide.com/cheatsheet.php)\n",
    "- [CSS basics](https://www.cssbasics.com/#page_start)"
   ]
  },
  {
   "cell_type": "markdown",
   "metadata": {},
   "source": [
    "#### Below are the libraries and modules you may need. `requests`,  `BeautifulSoup` and `pandas` are imported for you. If you prefer to use additional libraries feel free to uncomment them."
   ]
  },
  {
   "cell_type": "code",
   "execution_count": 80,
   "metadata": {},
   "outputs": [],
   "source": [
    "import requests\n",
    "from bs4 import BeautifulSoup\n",
    "import pandas as pd\n",
    "# from pprint import pprint\n",
    "# from lxml import html\n",
    "# from lxml.html import fromstring\n",
    "# import urllib.request\n",
    "# from urllib.request import urlopen\n",
    "# import random\n",
    "import re\n",
    "# import scrapy"
   ]
  },
  {
   "cell_type": "markdown",
   "metadata": {},
   "source": [
    "#### Download, parse (using BeautifulSoup), and print the content from the Trending Developers page from GitHub:"
   ]
  },
  {
   "cell_type": "code",
   "execution_count": 2,
   "metadata": {},
   "outputs": [],
   "source": [
    "# This is the url you will scrape in this exercise\n",
    "url = 'https://github.com/trending/developers'"
   ]
  },
  {
   "cell_type": "code",
   "execution_count": 98,
   "metadata": {},
   "outputs": [
    {
     "data": {
      "text/plain": "<div class=\"col-sm-8 d-md-flex\">\n<div class=\"col-md-6\">\n<h1 class=\"h3 lh-condensed\">\n<a href=\"/wojtekmaj\">\n            Wojciech Maj\n</a>\n</h1>\n<p class=\"f4 text-normal mb-1\">\n<a class=\"link-gray\" href=\"/wojtekmaj\">\n              wojtekmaj\n</a>\n</p>\n</div>\n<div class=\"col-md-6\">\n<div class=\"mt-2 mb-3 my-md-0\">\n<article>\n<div class=\"f6 text-gray text-uppercase mb-1\"><svg aria-hidden=\"true\" class=\"octicon octicon-flame text-orange-light mr-1\" height=\"16\" version=\"1.1\" viewbox=\"0 0 12 16\" width=\"12\"><path d=\"M5.05.31c.81 2.17.41 3.38-.52 4.31C3.55 5.67 1.98 6.45.9 7.98c-1.45 2.05-1.7 6.53 3.53 7.7-2.2-1.16-2.67-4.52-.3-6.61-.61 2.03.53 3.33 1.94 2.86 1.39-.47 2.3.53 2.27 1.67-.02.78-.31 1.44-1.13 1.81 3.42-.59 4.78-3.42 4.78-5.56 0-2.84-2.53-3.22-1.25-5.61-1.52.13-2.03 1.13-1.89 2.75.09 1.08-1.02 1.8-1.86 1.33-.67-.41-.66-1.19-.06-1.78C8.18 5.31 8.68 2.45 5.05.32L5.03.3l.02.01z\" fill-rule=\"evenodd\"></path></svg>Popular repo</div>\n<h1 class=\"h4 lh-condensed\">\n<a class=\"css-truncate css-truncate-target\" data-ga-click=\"Explore, go to repository, location:trending developers\" href=\"/wojtekmaj/react-pdf\" style=\"max-width: 175px;\">\n<svg aria-hidden=\"true\" class=\"octicon octicon-repo text-gray mr-1\" height=\"16\" version=\"1.1\" viewbox=\"0 0 12 16\" width=\"12\"><path d=\"M4 9H3V8h1v1zm0-3H3v1h1V6zm0-2H3v1h1V4zm0-2H3v1h1V2zm8-1v12c0 .55-.45 1-1 1H6v2l-1.5-1.5L3 16v-2H1c-.55 0-1-.45-1-1V1c0-.55.45-1 1-1h10c.55 0 1 .45 1 1zm-1 10H1v2h2v-1h3v1h5v-2zm0-10H2v9h9V1z\" fill-rule=\"evenodd\"></path></svg>\n\n      react-pdf\n    </a>\n</h1>\n<div class=\"f6 text-gray mt-1\">\n      Display PDFs in your React app as easily as if they were images.\n    </div>\n</article>\n</div>\n</div>\n</div>\n<div class=\"col-sm-4 d-flex flex-sm-justify-end ml-sm-3\">\n<div class=\"mr-2\">\n<a class=\"btn btn-sm btn-block\" href=\"/sponsors/wojtekmaj\">\n<svg aria-label=\"heart\" class=\"octicon octicon-heart icon-sponsor v-align-middle\" height=\"16\" role=\"img\" version=\"1.1\" viewbox=\"0 0 12 16\" width=\"12\"><path d=\"M9 2c-.97 0-1.69.42-2.2 1-.51.58-.78.92-.8 1-.02-.08-.28-.42-.8-1-.52-.58-1.17-1-2.2-1-1.632.086-2.954 1.333-3 3 0 .52.09 1.52.67 2.67C1.25 8.82 3.01 10.61 6 13c2.98-2.39 4.77-4.17 5.34-5.33C11.91 6.51 12 5.5 12 5c-.047-1.69-1.342-2.913-3-3z\" fill-rule=\"evenodd\"></path></svg>\n<span class=\"ml-1\">\n              Sponsor\n</span>\n</a>\n</div>\n<div class=\"user-profile-following-container\">\n<div class=\"user-following-container\">\n<span class=\"user-following-container\">\n<span class=\"follow\">\n<a class=\"btn btn-sm btn-block\" data-hydro-click='{\"event_type\":\"authentication.click\",\"payload\":{\"location_in_page\":\"follow button\",\"repository_id\":null,\"auth_type\":\"LOG_IN\",\"client_id\":null,\"originating_request_id\":\"89AA:1F814:A58AC7F:F7CF7DC:5DC45849\",\"originating_url\":\"https://github.com/trending/developers?since=monthly\",\"referrer\":null,\"user_id\":null}}' data-hydro-click-hmac=\"ac812487a32778f28ee0baa97f9ebca737b8bf283b930b727e79b8949b1e3c09\" href=\"/login?return_to=%2Ftrending%2Fdevelopers%3Fsince%3Dmonthly\">Follow</a>\n</span>\n</span>\n</div>\n</div>\n</div>\n</div>\n</article>\n<article class=\"Box-row d-flex\" id=\"pa-lirantal\">\n<a class=\"text-gray f6 text-center\" href=\"#pa-lirantal\" style=\"width: 16px;\">\n    25\n</a>\n<div class=\"mx-3\">\n<a class=\"d-inline-block\" data-hovercard-type=\"user\" data-hovercard-url=\"/hovercards?user_id=316371\" data-octo-click=\"hovercard-link-click\" data-octo-dimensions=\"link_type:self\" href=\"/lirantal\"><img alt=\"@lirantal\" class=\"rounded-1\" height=\"48\" src=\"https://avatars2.githubusercontent.com/u/316371?s=96&amp;v=4\" width=\"48\"/></a>\n</div>\n<div class=\"d-sm-flex flex-auto\">\n<div class=\"col-sm-8 d-md-flex\">\n<div class=\"col-md-6\">\n<h1 class=\"h3 lh-condensed\">\n<a href=\"/lirantal\">\n            Liran Tal\n</a>\n</h1>\n<p class=\"f4 text-normal mb-1\">\n<a class=\"link-gray\" href=\"/lirantal\">\n              lirantal\n</a>\n</p>\n</div>\n<div class=\"col-md-6\">\n<div class=\"mt-2 mb-3 my-md-0\">\n<article>\n<div class=\"f6 text-gray text-uppercase mb-1\"><svg aria-hidden=\"true\" class=\"octicon octicon-flame text-orange-light mr-1\" height=\"16\" version=\"1.1\" viewbox=\"0 0 12 16\" width=\"12\"><path d=\"M5.05.31c.81 2.17.41 3.38-.52 4.31C3.55 5.67 1.98 6.45.9 7.98c-1.45 2.05-1.7 6.53 3.53 7.7-2.2-1.16-2.67-4.52-.3-6.61-.61 2.03.53 3.33 1.94 2.86 1.39-.47 2.3.53 2.27 1.67-.02.78-.31 1.44-1.13 1.81 3.42-.59 4.78-3.42 4.78-5.56 0-2.84-2.53-3.22-1.25-5.61-1.52.13-2.03 1.13-1.89 2.75.09 1.08-1.02 1.8-1.86 1.33-.67-.41-.66-1.19-.06-1.78C8.18 5.31 8.68 2.45 5.05.32L5.03.3l.02.01z\" fill-rule=\"evenodd\"></path></svg>Popular repo</div>\n<h1 class=\"h4 lh-condensed\">\n<a class=\"css-truncate css-truncate-target\" data-ga-click=\"Explore, go to repository, location:trending developers\" href=\"/lirantal/dockly\" style=\"max-width: 175px;\">\n<svg aria-hidden=\"true\" class=\"octicon octicon-repo text-gray mr-1\" height=\"16\" version=\"1.1\" viewbox=\"0 0 12 16\" width=\"12\"><path d=\"M4 9H3V8h1v1zm0-3H3v1h1V6zm0-2H3v1h1V4zm0-2H3v1h1V2zm8-1v12c0 .55-.45 1-1 1H6v2l-1.5-1.5L3 16v-2H1c-.55 0-1-.45-1-1V1c0-.55.45-1 1-1h10c.55 0 1 .45 1 1zm-1 10H1v2h2v-1h3v1h5v-2zm0-10H2v9h9V1z\" fill-rule=\"evenodd\"></path></svg>\n\n      dockly\n    </a>\n</h1>\n<div class=\"f6 text-gray mt-1\">\n      Immersive terminal interface for managing docker containers and services\n    </div>\n</article>\n</div>\n</div>\n</div>\n<div class=\"col-sm-4 d-flex flex-sm-justify-end ml-sm-3\">\n<div class=\"user-profile-following-container\">\n<div class=\"user-following-container\">\n<span class=\"user-following-container\">\n<span class=\"follow\">\n<a class=\"btn btn-sm btn-block\" data-hydro-click='{\"event_type\":\"authentication.click\",\"payload\":{\"location_in_page\":\"follow button\",\"repository_id\":null,\"auth_type\":\"LOG_IN\",\"client_id\":null,\"originating_request_id\":\"89AA:1F814:A58AC7F:F7CF7DC:5DC45849\",\"originating_url\":\"https://github.com/trending/developers?since=monthly\",\"referrer\":null,\"user_id\":null}}' data-hydro-click-hmac=\"ac812487a32778f28ee0baa97f9ebca737b8bf283b930b727e79b8949b1e3c09\" href=\"/login?return_to=%2Ftrending%2Fdevelopers%3Fsince%3Dmonthly\">Follow</a>\n</span>\n</span>\n</div>\n</div>\n</div>\n</div>\n</article>\n</div>\n</div>\n</div>\n</main>\n</div>\n<footer class=\"footer mt-6\">\n<div class=\"container-lg p-responsive\">\n<div class=\"d-flex flex-wrap py-5 mb-5\">\n<div class=\"col-12 col-lg-4 mb-5\">\n<a aria-label=\"Go to GitHub homepage\" class=\"text-gray-dark\" data-ga-click=\"Footer, go to home, text:home\" href=\"/\">\n<svg aria-hidden=\"true\" class=\"octicon octicon-logo-github\" height=\"30\" version=\"1.1\" viewbox=\"0 0 45 16\" width=\"84\"><path d=\"M18.53 12.03h-.02c.009 0 .015.01.024.011h.006l-.01-.01zm.004.011c-.093.001-.327.05-.574.05-.78 0-1.05-.36-1.05-.83V8.13h1.59c.09 0 .16-.08.16-.19v-1.7c0-.09-.08-.17-.16-.17h-1.59V3.96c0-.08-.05-.13-.14-.13h-2.16c-.09 0-.14.05-.14.13v2.17s-1.09.27-1.16.28c-.08.02-.13.09-.13.17v1.36c0 .11.08.19.17.19h1.11v3.28c0 2.44 1.7 2.69 2.86 2.69.53 0 1.17-.17 1.27-.22.06-.02.09-.09.09-.16v-1.5a.177.177 0 00-.146-.18zM42.23 9.84c0-1.81-.73-2.05-1.5-1.97-.6.04-1.08.34-1.08.34v3.52s.49.34 1.22.36c1.03.03 1.36-.34 1.36-2.25zm2.43-.16c0 3.43-1.11 4.41-3.05 4.41-1.64 0-2.52-.83-2.52-.83s-.04.46-.09.52c-.03.06-.08.08-.14.08h-1.48c-.1 0-.19-.08-.19-.17l.02-11.11c0-.09.08-.17.17-.17h2.13c.09 0 .17.08.17.17v3.77s.82-.53 2.02-.53l-.01-.02c1.2 0 2.97.45 2.97 3.88zm-8.72-3.61h-2.1c-.11 0-.17.08-.17.19v5.44s-.55.39-1.3.39-.97-.34-.97-1.09V6.25c0-.09-.08-.17-.17-.17h-2.14c-.09 0-.17.08-.17.17v5.11c0 2.2 1.23 2.75 2.92 2.75 1.39 0 2.52-.77 2.52-.77s.05.39.08.45c.02.05.09.09.16.09h1.34c.11 0 .17-.08.17-.17l.02-7.47c0-.09-.08-.17-.19-.17zm-23.7-.01h-2.13c-.09 0-.17.09-.17.2v7.34c0 .2.13.27.3.27h1.92c.2 0 .25-.09.25-.27V6.23c0-.09-.08-.17-.17-.17zm-1.05-3.38c-.77 0-1.38.61-1.38 1.38 0 .77.61 1.38 1.38 1.38.75 0 1.36-.61 1.36-1.38 0-.77-.61-1.38-1.36-1.38zm16.49-.25h-2.11c-.09 0-.17.08-.17.17v4.09h-3.31V2.6c0-.09-.08-.17-.17-.17h-2.13c-.09 0-.17.08-.17.17v11.11c0 .09.09.17.17.17h2.13c.09 0 .17-.08.17-.17V8.96h3.31l-.02 4.75c0 .09.08.17.17.17h2.13c.09 0 .17-.08.17-.17V2.6c0-.09-.08-.17-.17-.17zM8.81 7.35v5.74c0 .04-.01.11-.06.13 0 0-1.25.89-3.31.89-2.49 0-5.44-.78-5.44-5.92S2.58 1.99 5.1 2c2.18 0 3.06.49 3.2.58.04.05.06.09.06.14L7.94 4.5c0 .09-.09.2-.2.17-.36-.11-.9-.33-2.17-.33-1.47 0-3.05.42-3.05 3.73s1.5 3.7 2.58 3.7c.92 0 1.25-.11 1.25-.11v-2.3H4.88c-.11 0-.19-.08-.19-.17V7.35c0-.09.08-.17.19-.17h3.74c.11 0 .19.08.19.17z\" fill-rule=\"evenodd\"></path></svg>\n</a>\n</div>\n<div class=\"col-6 col-sm-3 col-lg-2 mb-6 mb-md-2 pr-3 pr-lg-0 pl-lg-4\">\n<h2 class=\"h5 mb-3 text-mono text-gray-light text-normal\">Product</h2>\n<ul class=\"list-style-none text-gray f5\">\n<li class=\"lh-condensed mb-3\"><a class=\"link-gray\" data-ga-click=\"Footer, go to features, text:features\" href=\"/features\">Features</a></li>\n<li class=\"lh-condensed mb-3\"><a class=\"link-gray\" data-ga-click=\"Footer, go to security, text:security\" href=\"/security\">Security</a></li>\n<li class=\"lh-condensed mb-3\"><a class=\"link-gray\" data-ga-click=\"Footer, go to enterprise, text:enterprise\" href=\"/enterprise\">Enterprise</a></li>\n<li class=\"lh-condensed mb-3\"><a class=\"link-gray\" data-ga-click=\"Footer, go to customer stories, text:customer stories\" href=\"/customer-stories\">Customer stories</a></li>\n<li class=\"lh-condensed mb-3\"><a class=\"link-gray\" data-ga-click=\"Footer, go to pricing, text:pricing\" href=\"/pricing\">Pricing</a></li>\n<li class=\"lh-condensed mb-3\"><a class=\"link-gray\" data-ga-click=\"Footer, go to resources, text:resources\" href=\"https://resources.github.com\">Resources</a></li>\n</ul>\n</div>\n<div class=\"col-6 col-sm-3 col-lg-2 mb-6 mb-md-2 pr-3 pr-md-0 pl-md-4\">\n<h2 class=\"h5 mb-3 text-mono text-gray-light text-normal\">Platform</h2>\n<ul class=\"list-style-none f5\">\n<li class=\"lh-condensed mb-3\"><a class=\"link-gray\" data-ga-click=\"Footer, go to api, text:api\" href=\"https://developer.github.com\">Developer API</a></li>\n<li class=\"lh-condensed mb-3\"><a class=\"link-gray\" data-ga-click=\"Footer, go to partner, text:partner\" href=\"http://partner.github.com/\">Partners</a></li>\n<li class=\"lh-condensed mb-3\"><a class=\"link-gray\" data-ga-click=\"Footer, go to atom, text:atom\" href=\"https://atom.io\">Atom</a></li>\n<li class=\"lh-condensed mb-3\"><a class=\"link-gray\" data-ga-click=\"Footer, go to electron, text:electron\" href=\"http://electron.atom.io/\">Electron</a></li>\n<li class=\"lh-condensed mb-3\"><a class=\"link-gray\" data-ga-click=\"Footer, go to desktop, text:desktop\" href=\"https://desktop.github.com/\">GitHub Desktop</a></li>\n</ul>\n</div>\n<div class=\"col-6 col-sm-3 col-lg-2 mb-6 mb-md-2 pr-3 pr-md-0 pl-md-4\">\n<h2 class=\"h5 mb-3 text-mono text-gray-light text-normal\">Support</h2>\n<ul class=\"list-style-none f5\">\n<li class=\"lh-condensed mb-3\"><a class=\"link-gray\" data-ga-click=\"Footer, go to help, text:help\" href=\"https://help.github.com\">Help</a></li>\n<li class=\"lh-condensed mb-3\"><a class=\"link-gray\" data-ga-click=\"Footer, go to community, text:community\" href=\"https://github.community\">Community Forum</a></li>\n<li class=\"lh-condensed mb-3\"><a class=\"link-gray\" data-ga-click=\"Footer, go to professional services, text:professional services\" href=\"https://services.github.com/\">Professional Services</a></li>\n<li class=\"lh-condensed mb-3\"><a class=\"link-gray\" data-ga-click=\"Footer, go to learning lab, text:learning lab\" href=\"https://lab.github.com/\">Learning Lab</a></li>\n<li class=\"lh-condensed mb-3\"><a class=\"link-gray\" data-ga-click=\"Footer, go to status, text:status\" href=\"https://githubstatus.com/\">Status</a></li>\n<li class=\"lh-condensed mb-3\"><a class=\"link-gray\" data-ga-click=\"Footer, go to contact, text:contact\" href=\"https://github.com/contact\">Contact GitHub</a></li>\n</ul>\n</div>\n<div class=\"col-6 col-sm-3 col-lg-2 mb-6 mb-md-2 pr-3 pr-md-0 pl-md-4\">\n<h2 class=\"h5 mb-3 text-mono text-gray-light text-normal\">Company</h2>\n<ul class=\"list-style-none f5\">\n<li class=\"lh-condensed mb-3\"><a class=\"link-gray\" data-ga-click=\"Footer, go to about, text:about\" href=\"https://github.com/about\">About</a></li>\n<li class=\"lh-condensed mb-3\"><a class=\"link-gray\" data-ga-click=\"Footer, go to blog, text:blog\" href=\"https://github.blog\">Blog</a></li>\n<li class=\"lh-condensed mb-3\"><a class=\"link-gray\" data-ga-click=\"Footer, go to careers, text:careers\" href=\"/about/careers\">Careers</a></li>\n<li class=\"lh-condensed mb-3\"><a class=\"link-gray\" data-ga-click=\"Footer, go to press, text:press\" href=\"/about/press\">Press</a></li>\n<li class=\"lh-condensed mb-3\"><a class=\"link-gray\" data-ga-click=\"Footer, go to shop, text:shop\" href=\"https://shop.github.com\">Shop</a></li>\n</ul>\n</div>\n</div>\n</div>\n<div class=\"bg-gray-light\">\n<div class=\"container-lg p-responsive f6 py-4 d-sm-flex flex-justify-between flex-row-reverse flex-items-center\">\n<ul class=\"list-style-none d-flex flex-items-center mb-3 mb-sm-0 lh-condensed-ultra\">\n<li class=\"mr-3\"><a data-ga-click=\"Footer, go to Twitter, text:twitter\" href=\"https://twitter.com/github\" style=\"color: #959da5;\" title=\"GitHub on Twitter\"><svg class=\"d-block\" height=\"18\" viewbox=\"0 0 273.5 222.3\" xmlns=\"http://www.w3.org/2000/svg\"><path d=\"M273.5 26.3a109.77 109.77 0 0 1-32.2 8.8 56.07 56.07 0 0 0 24.7-31 113.39 113.39 0 0 1-35.7 13.6 56.1 56.1 0 0 0-97 38.4 54 54 0 0 0 1.5 12.8A159.68 159.68 0 0 1 19.1 10.3a56.12 56.12 0 0 0 17.4 74.9 56.06 56.06 0 0 1-25.4-7v.7a56.11 56.11 0 0 0 45 55 55.65 55.65 0 0 1-14.8 2 62.39 62.39 0 0 1-10.6-1 56.24 56.24 0 0 0 52.4 39 112.87 112.87 0 0 1-69.7 24 119 119 0 0 1-13.4-.8 158.83 158.83 0 0 0 86 25.2c103.2 0 159.6-85.5 159.6-159.6 0-2.4-.1-4.9-.2-7.3a114.25 114.25 0 0 0 28.1-29.1\" fill=\"currentColor\"></path></svg>\n</a></li>\n<li class=\"mr-3\"><a data-ga-click=\"Footer, go to Facebook, text:facebook\" href=\"https://www.facebook.com/GitHub\" style=\"color: #959da5;\" title=\"GitHub on Facebook\"><svg class=\"d-block\" height=\"18\" viewbox=\"0 0 15.3 15.4\" xmlns=\"http://www.w3.org/2000/svg\"><path d=\"M14.5 0H.8a.88.88 0 0 0-.8.9v13.6a.88.88 0 0 0 .8.9h7.3v-6h-2V7.1h2V5.4a2.87 2.87 0 0 1 2.5-3.1h.5a10.87 10.87 0 0 1 1.8.1v2.1h-1.3c-1 0-1.1.5-1.1 1.1v1.5h2.3l-.3 2.3h-2v5.9h3.9a.88.88 0 0 0 .9-.8V.8a.86.86 0 0 0-.8-.8z\" fill=\"currentColor\"></path></svg>\n</a></li>\n<li class=\"mr-3\"><a data-ga-click=\"Footer, go to YouTube, text:youtube\" href=\"https://www.youtube.com/github\" style=\"color: #959da5;\" title=\"GitHub on YouTube\"><svg class=\"d-block\" height=\"16\" viewbox=\"0 0 19.17 13.6\" xmlns=\"http://www.w3.org/2000/svg\"><path d=\"M18.77 2.13A2.4 2.4 0 0 0 17.09.42C15.59 0 9.58 0 9.58 0a57.55 57.55 0 0 0-7.5.4A2.49 2.49 0 0 0 .39 2.13 26.27 26.27 0 0 0 0 6.8a26.15 26.15 0 0 0 .39 4.67 2.43 2.43 0 0 0 1.69 1.71c1.52.42 7.5.42 7.5.42a57.69 57.69 0 0 0 7.51-.4 2.4 2.4 0 0 0 1.68-1.71 25.63 25.63 0 0 0 .4-4.67 24 24 0 0 0-.4-4.69zM7.67 9.71V3.89l5 2.91z\" fill=\"currentColor\"></path></svg>\n</a></li>\n<li class=\"mr-3 flex-self-start\"><a data-ga-click=\"Footer, go to Linkedin, text:linkedin\" href=\"https://www.linkedin.com/company/github\" style=\"color: #959da5;\" title=\"GitHub on Linkedin\"><svg class=\"d-block\" height=\"18\" viewbox=\"0 0 19 18\" xmlns=\"http://www.w3.org/2000/svg\"><path d=\"M3.94 2A2 2 0 1 1 2 0a2 2 0 0 1 1.94 2zM4 5.48H0V18h4zm6.32 0H6.34V18h3.94v-6.57c0-3.66 4.77-4 4.77 0V18H19v-7.93c0-6.17-7.06-5.94-8.72-2.91z\" fill=\"currentColor\"></path></svg>\n</a></li>\n<li><a data-ga-click=\"Footer, go to github's org, text:github\" href=\"https://github.com/github\" style=\"color: #959da5;\" title=\"GitHub's organization\"><svg alt=\"GitHub\" aria-hidden=\"true\" class=\"octicon octicon-mark-github d-block\" height=\"20\" version=\"1.1\" viewbox=\"0 0 16 16\" width=\"20\"><path d=\"M8 0C3.58 0 0 3.58 0 8c0 3.54 2.29 6.53 5.47 7.59.4.07.55-.17.55-.38 0-.19-.01-.82-.01-1.49-2.01.37-2.53-.49-2.69-.94-.09-.23-.48-.94-.82-1.13-.28-.15-.68-.52-.01-.53.63-.01 1.08.58 1.23.82.72 1.21 1.87.87 2.33.66.07-.52.28-.87.51-1.07-1.78-.2-3.64-.89-3.64-3.95 0-.87.31-1.59.82-2.15-.08-.2-.36-1.02.08-2.12 0 0 .67-.21 2.2.82.64-.18 1.32-.27 2-.27.68 0 1.36.09 2 .27 1.53-1.04 2.2-.82 2.2-.82.44 1.1.16 1.92.08 2.12.51.56.82 1.27.82 2.15 0 3.07-1.87 3.75-3.65 3.95.29.25.54.73.54 1.48 0 1.07-.01 1.93-.01 2.2 0 .21.15.46.55.38A8.013 8.013 0 0016 8c0-4.42-3.58-8-8-8z\" fill-rule=\"evenodd\"></path></svg></a></li>\n</ul>\n<ul class=\"list-style-none d-flex text-gray\">\n<li class=\"mr-3\">© 2019 GitHub, Inc.</li>\n<li class=\"mr-3\"><a class=\"link-gray\" data-ga-click=\"Footer, go to terms, text:terms\" href=\"/site/terms\">Terms</a></li>\n<li><a class=\"link-gray\" data-ga-click=\"Footer, go to privacy, text:privacy\" href=\"/site/privacy\">Privacy</a></li>\n</ul>\n</div>\n</div>\n</footer>\n<div class=\"ajax-error-message flash flash-error\" id=\"ajax-error-message\">\n<svg aria-hidden=\"true\" class=\"octicon octicon-alert\" height=\"16\" version=\"1.1\" viewbox=\"0 0 16 16\" width=\"16\"><path d=\"M8.893 1.5c-.183-.31-.52-.5-.887-.5s-.703.19-.886.5L.138 13.499a.98.98 0 000 1.001c.193.31.53.501.886.501h13.964c.367 0 .704-.19.877-.5a1.03 1.03 0 00.01-1.002L8.893 1.5zm.133 11.497H6.987v-2.003h2.039v2.003zm0-3.004H6.987V5.987h2.039v4.006z\" fill-rule=\"evenodd\"></path></svg>\n<button aria-label=\"Dismiss error\" class=\"flash-close js-ajax-error-dismiss\" type=\"button\">\n<svg aria-hidden=\"true\" class=\"octicon octicon-x\" height=\"16\" version=\"1.1\" viewbox=\"0 0 12 16\" width=\"12\"><path d=\"M7.48 8l3.75 3.75-1.48 1.48L6 9.48l-3.75 3.75-1.48-1.48L4.52 8 .77 4.25l1.48-1.48L6 6.52l3.75-3.75 1.48 1.48L7.48 8z\" fill-rule=\"evenodd\"></path></svg>\n</button>\n    You can’t perform that action at this time.\n  </div>\n<script crossorigin=\"anonymous\" integrity=\"sha512-8yXmbeDdt4gVfUT+stcsBXkDwLfah3KMVmbddLvMOfdtCoH3mlhgRXQ+8Dx0+cFaeACFRXAGqmErCOtzu+VyKQ==\" src=\"https://github.githubassets.com/assets/compat-bootstrap-d7891bb2.js\" type=\"application/javascript\"></script>\n<script crossorigin=\"anonymous\" integrity=\"sha512-hA/jxHUMpbg+oGb0wADbiRyuannghTcjStJ9lECPORM/R6ASI55foRRxc9R4Fu42ovqc4bjfEanTQ8LPyH4sCw==\" src=\"https://github.githubassets.com/assets/frameworks-b98c1b21.js\" type=\"application/javascript\"></script>\n<script async=\"async\" crossorigin=\"anonymous\" integrity=\"sha512-koSOsCHKpBNCs4LR97TkElDYPfQQXP7z0wbcVxG87Si3oh6rQZ3eeFXdMS9ZTGTo0UdqD6ahNivwPvXQmXtjjA==\" src=\"https://github.githubassets.com/assets/github-bootstrap-93eb2776.js\" type=\"application/javascript\"></script>\n<div class=\"js-stale-session-flash flash flash-warn flash-banner\" hidden=\"\">\n<svg aria-hidden=\"true\" class=\"octicon octicon-alert\" height=\"16\" version=\"1.1\" viewbox=\"0 0 16 16\" width=\"16\"><path d=\"M8.893 1.5c-.183-.31-.52-.5-.887-.5s-.703.19-.886.5L.138 13.499a.98.98 0 000 1.001c.193.31.53.501.886.501h13.964c.367 0 .704-.19.877-.5a1.03 1.03 0 00.01-1.002L8.893 1.5zm.133 11.497H6.987v-2.003h2.039v2.003zm0-3.004H6.987V5.987h2.039v4.006z\" fill-rule=\"evenodd\"></path></svg>\n<span class=\"js-stale-session-flash-signed-in\" hidden=\"\">You signed in with another tab or window. <a href=\"\">Reload</a> to refresh your session.</span>\n<span class=\"js-stale-session-flash-signed-out\" hidden=\"\">You signed out in another tab or window. <a href=\"\">Reload</a> to refresh your session.</span>\n</div>\n<template id=\"site-details-dialog\">\n<details class=\"details-reset details-overlay details-overlay-dark lh-default text-gray-dark hx_rsm\" open=\"\">\n<summary aria-label=\"Close dialog\" role=\"button\"></summary>\n<details-dialog class=\"Box Box--overlay d-flex flex-column anim-fade-in fast hx_rsm-dialog hx_rsm-modal\">\n<button aria-label=\"Close dialog\" class=\"Box-btn-octicon m-0 btn-octicon position-absolute right-0 top-0\" data-close-dialog=\"\" type=\"button\">\n<svg aria-hidden=\"true\" class=\"octicon octicon-x\" height=\"16\" version=\"1.1\" viewbox=\"0 0 12 16\" width=\"12\"><path d=\"M7.48 8l3.75 3.75-1.48 1.48L6 9.48l-3.75 3.75-1.48-1.48L4.52 8 .77 4.25l1.48-1.48L6 6.52l3.75-3.75 1.48 1.48L7.48 8z\" fill-rule=\"evenodd\"></path></svg>\n</button>\n<div class=\"octocat-spinner my-6 js-details-dialog-spinner\"></div>\n</details-dialog>\n</details>\n</template>\n<div class=\"Popover js-hovercard-content position-absolute\" style=\"display: none; outline: none;\" tabindex=\"0\">\n<div class=\"Popover-message Popover-message--bottom-left Popover-message--large Box box-shadow-large\" style=\"width:360px;\">\n</div>\n</div>\n<div aria-live=\"polite\" class=\"js-global-screen-reader-notice sr-only\"></div>\n\n"
     },
     "execution_count": 98,
     "metadata": {},
     "output_type": "execute_result"
    }
   ],
   "source": [
    "#your code\n",
    "url = 'https://github.com/trending/developers?since=monthly'\n",
    "res = requests.get(url)\n",
    "html = res.text\n",
    "\n",
    "soup = BeautifulSoup(html, 'html.parser')\n",
    "soup\n"
   ]
  },
  {
   "cell_type": "markdown",
   "metadata": {},
   "source": [
    "#### Display the names of the trending developers retrieved in the previous step.\n",
    "\n",
    "Your output should be a Python list of developer names. Each name should not contain any html tag.\n",
    "\n",
    "**Instructions:**\n",
    "\n",
    "1. Find out the html tag and class names used for the developer names. You can achieve this using Chrome DevTools.\n",
    "\n",
    "1. Use BeautifulSoup to extract all the html elements that contain the developer names.\n",
    "\n",
    "1. Use string manipulation techniques to replace whitespaces and linebreaks (i.e. `\\n`) in the *text* of each html element. Use a list to store the clean names.\n",
    "\n",
    "1. Print the list of names.\n",
    "\n",
    "Your output should look like below:\n",
    "\n",
    "```\n",
    "['trimstray (@trimstray)',\n",
    " 'joewalnes (JoeWalnes)',\n",
    " 'charlax (Charles-AxelDein)',\n",
    " 'ForrestKnight (ForrestKnight)',\n",
    " 'revery-ui (revery-ui)',\n",
    " 'alibaba (Alibaba)',\n",
    " 'Microsoft (Microsoft)',\n",
    " 'github (GitHub)',\n",
    " 'facebook (Facebook)',\n",
    " 'boazsegev (Bo)',\n",
    " 'google (Google)',\n",
    " 'cloudfetch',\n",
    " 'sindresorhus (SindreSorhus)',\n",
    " 'tensorflow',\n",
    " 'apache (TheApacheSoftwareFoundation)',\n",
    " 'DevonCrawford (DevonCrawford)',\n",
    " 'ARMmbed (ArmMbed)',\n",
    " 'vuejs (vuejs)',\n",
    " 'fastai (fast.ai)',\n",
    " 'QiShaoXuan (Qi)',\n",
    " 'joelparkerhenderson (JoelParkerHenderson)',\n",
    " 'torvalds (LinusTorvalds)',\n",
    " 'CyC2018',\n",
    " 'komeiji-satori (神楽坂覚々)',\n",
    " 'script-8']\n",
    " ```"
   ]
  },
  {
   "cell_type": "code",
   "execution_count": 99,
   "metadata": {},
   "outputs": [
    {
     "data": {
      "text/plain": "\"['Felix Angelov', 'felangel', 'Travis Tidwell', 'travist', 'Jared Palmer', 'jaredpalmer', 'Tomoki Hayashi', 'kan-bayashi', 'Robert Mosolgo', 'rmosolgo', 'Liu-Cheng Xu', 'liuchengxu', 'Piotrek Witek', 'piotrwitek', 'Jeffrey Stedfast', 'jstedfast', 'Vinayak Mehta', 'vinayak-mehta', 'Krzysztof Magiera', 'kmagiera', 'Yangshun Tay', 'yangshun', 'Asim Aslam', 'asim', 'Steven Macenski', 'SteveMacenski', 'Darío Kondratiuk', 'kblok', 'Matt Holt', 'mholt', 'Teppei Fukuda', 'knqyf263', 'mattn', 'mattn', 'Marc Philipp', 'marcphilipp', 'David Tolnay', 'dtolnay', 'Tanner', 'tanner0101', 'Hugo van Kemenade', 'hugovk', 'Juliette', 'jrfnl', 'Michaël Zasso', 'targos', 'Wojciech Maj', 'wojtekmaj', 'Liran Tal', 'lirantal']\""
     },
     "execution_count": 99,
     "metadata": {},
     "output_type": "execute_result"
    }
   ],
   "source": [
    "#your code\n",
    "links = soup.find_all('h1', attrs={'class':'h3 lh-condensed'})\n",
    "links\n",
    "developers=[]\n",
    "for l in links:\n",
    "   developers.append(l.find('a').text.strip())\n",
    "   href = l.find('a').get('href')\n",
    "   developers.append(href)\n",
    "developers = re.sub(r'\\/','',str(developers))\n",
    "developers"
   ]
  },
  {
   "cell_type": "markdown",
   "metadata": {},
   "source": [
    "#### Display the trending Python repositories in GitHub\n",
    "\n",
    "The steps to solve this problem is similar to the previous one except that you need to find out the repository names instead of developer names."
   ]
  },
  {
   "cell_type": "code",
   "execution_count": null,
   "metadata": {},
   "outputs": [],
   "source": [
    "# This is the url you will scrape in this exercise\n",
    "url = 'https://github.com/trending/python?since=daily'"
   ]
  },
  {
   "cell_type": "code",
   "execution_count": 143,
   "metadata": {},
   "outputs": [
    {
     "data": {
      "text/plain": "['google-research /',\n 'n8n-io /',\n 'vlang /',\n 'TheAlgorithms /',\n 'evilsocket /',\n 'brightmart /',\n 'streamlit /',\n 'robbyrussell /',\n 'hsoft /',\n 'vuejs /',\n 'ageron /',\n 'llvm /',\n 'pytorch /',\n 'danielmiessler /',\n 'elunez /',\n 'macrozheng /',\n 'vuejs /',\n 'storybookjs /',\n 'mrdoob /',\n '0voice /',\n 'williamfiset /',\n 'frank-lam /',\n 'google-research /',\n 'torvalds /']"
     },
     "execution_count": 143,
     "metadata": {},
     "output_type": "execute_result"
    }
   ],
   "source": [
    "#your code\n",
    "url2 = 'https://github.com/trending?since=monthly'\n",
    "res2 = requests.get(url2)\n",
    "html2 = res2.text\n",
    "\n",
    "soup2 = BeautifulSoup(html2, 'html.parser')\n",
    "soup2\n",
    "\n",
    "links = soup2.find_all('h1', attrs={'class':'h3 lh-condensed'})\n",
    "repositories=[]\n",
    "for l in links:\n",
    "   clase = l.find('span',class_='text-normal').text.strip()\n",
    "   repositories.append(clase)\n",
    "repositories"
   ]
  },
  {
   "cell_type": "markdown",
   "metadata": {},
   "source": [
    "#### Display all the image links from Walt Disney wikipedia page"
   ]
  },
  {
   "cell_type": "code",
   "execution_count": null,
   "metadata": {},
   "outputs": [],
   "source": [
    "# This is the url you will scrape in this exercise\n",
    "url = 'https://en.wikipedia.org/wiki/Walt_Disney'"
   ]
  },
  {
   "cell_type": "code",
   "execution_count": 170,
   "metadata": {},
   "outputs": [
    {
     "name": "stdout",
     "output_type": "stream",
     "text": "['https://upload.wikimedia.org/wikipedia/commons/thumb/c/c4/Walt_Disney_envelope_ca._1921.jpg/220px-Walt_Disney_envelope_ca._1921.jpg', 'https://upload.wikimedia.org/wikipedia/commons/thumb/4/4d/Newman_Laugh-O-Gram_%281921%29.webm/220px-seek%3D2-Newman_Laugh-O-Gram_%281921%29.webm.jpg', 'https://upload.wikimedia.org/wikipedia/commons/thumb/0/0d/Trolley_Troubles_poster.jpg/170px-Trolley_Troubles_poster.jpg', 'https://upload.wikimedia.org/wikipedia/commons/thumb/7/71/Walt_Disney_and_his_cartoon_creation_%22Mickey_Mouse%22_-_National_Board_of_Review_Magazine.jpg/170px-Walt_Disney_and_his_cartoon_creation_%22Mickey_Mouse%22_-_National_Board_of_Review_Magazine.jpg', 'https://upload.wikimedia.org/wikipedia/en/thumb/4/4e/Steamboat-willie.jpg/170px-Steamboat-willie.jpg', 'https://upload.wikimedia.org/wikipedia/commons/thumb/5/57/Walt_Disney_1935.jpg/170px-Walt_Disney_1935.jpg', 'https://upload.wikimedia.org/wikipedia/commons/thumb/c/cd/Walt_Disney_Snow_white_1937_trailer_screenshot_%2813%29.jpg/220px-Walt_Disney_Snow_white_1937_trailer_screenshot_%2813%29.jpg', 'https://upload.wikimedia.org/wikipedia/commons/thumb/1/15/Disney_drawing_goofy.jpg/170px-Disney_drawing_goofy.jpg', 'https://upload.wikimedia.org/wikipedia/commons/thumb/1/13/DisneySchiphol1951.jpg/220px-DisneySchiphol1951.jpg', 'https://upload.wikimedia.org/wikipedia/commons/thumb/8/8c/WaltDisneyplansDisneylandDec1954.jpg/220px-WaltDisneyplansDisneylandDec1954.jpg', 'https://upload.wikimedia.org/wikipedia/commons/thumb/f/ff/Walt_disney_portrait_right.jpg/170px-Walt_disney_portrait_right.jpg', 'https://upload.wikimedia.org/wikipedia/commons/thumb/2/2d/Roy_O._Disney_with_Company_at_Press_Conference.jpg/170px-Roy_O._Disney_with_Company_at_Press_Conference.jpg', 'https://upload.wikimedia.org/wikipedia/commons/thumb/6/6c/Disney1968.jpg/170px-Disney1968.jpg', 'https://upload.wikimedia.org/wikipedia/commons/thumb/1/1a/Magic_Kingdom_castle.jpg/24px-Magic_Kingdom_castle.jpg']\n"
    },
    {
     "data": {
      "text/html": "<img src=\"https://upload.wikimedia.org/wikipedia/commons/thumb/c/c4/Walt_Disney_envelope_ca._1921.jpg/220px-Walt_Disney_envelope_ca._1921.jpg\"/>",
      "text/plain": "<IPython.core.display.Image object>"
     },
     "metadata": {},
     "output_type": "display_data"
    }
   ],
   "source": [
    "#your code\n",
    "\n",
    "url3 = 'https://en.wikipedia.org/wiki/Walt_Disney'\n",
    "res3 = requests.get(url3)\n",
    "html3 = res3.text\n",
    "soup3 = BeautifulSoup(html3, 'html.parser')\n",
    "soup3\n",
    "\n",
    "images = soup3.find_all('img', {'src':re.compile('.jpg')})\n",
    "new_list=[]\n",
    "for image in images: \n",
    "    new_list.append(('https:' + image['src']))\n",
    "\n",
    "\n",
    "from IPython.display import Image\n",
    "from IPython.core.display import HTML \n",
    "\n",
    "print(new_list)\n",
    "display(Image(url=new_list[0]))"
   ]
  },
  {
   "cell_type": "markdown",
   "metadata": {},
   "source": [
    "#### Retrieve an arbitary Wikipedia page of \"Python\" and create a list of links on that page"
   ]
  },
  {
   "cell_type": "code",
   "execution_count": null,
   "metadata": {},
   "outputs": [],
   "source": [
    "# This is the url you will scrape in this exercise\n",
    "url ='https://en.wikipedia.org/wiki/Python' "
   ]
  },
  {
   "cell_type": "code",
   "execution_count": 191,
   "metadata": {},
   "outputs": [
    {
     "name": "stdout",
     "output_type": "stream",
     "text": "https://en.wiktionary.org/wiki/Python\nhttps://en.wiktionary.org/wiki/python\nhttps://en.wikipedia.org/w/index.php?title=Special:WhatLinksHere/Python&namespace=0\nhttps://en.wikipedia.org/w/index.php?title=Python&oldid=924004650\nhttps://donate.wikimedia.org/wiki/Special:FundraiserRedirector?utm_source=donate&utm_medium=sidebar&utm_campaign=C13_en.wikipedia.org&uselang=en\nhttps://www.wikidata.org/wiki/Special:EntityPage/Q747452\nhttps://commons.wikimedia.org/wiki/Category:Python\nhttps://af.wikipedia.org/wiki/Python\nhttps://als.wikipedia.org/wiki/Python\nhttps://az.wikipedia.org/wiki/Python\nhttps://bn.wikipedia.org/wiki/%E0%A6%AA%E0%A6%BE%E0%A6%87%E0%A6%A5%E0%A6%A8_(%E0%A6%A6%E0%A7%8D%E0%A6%AC%E0%A7%8D%E0%A6%AF%E0%A6%B0%E0%A7%8D%E0%A6%A5%E0%A6%A4%E0%A6%BE_%E0%A6%A8%E0%A6%BF%E0%A6%B0%E0%A6%B8%E0%A6%A8)\nhttps://be.wikipedia.org/wiki/Python\nhttps://bg.wikipedia.org/wiki/%D0%9F%D0%B8%D1%82%D0%BE%D0%BD_(%D0%BF%D0%BE%D1%8F%D1%81%D0%BD%D0%B5%D0%BD%D0%B8%D0%B5)\nhttps://cs.wikipedia.org/wiki/Python_(rozcestn%C3%ADk)\nhttps://da.wikipedia.org/wiki/Python\nhttps://de.wikipedia.org/wiki/Python\nhttps://eo.wikipedia.org/wiki/Pitono_(apartigilo)\nhttps://eu.wikipedia.org/wiki/Python_(argipena)\nhttps://fa.wikipedia.org/wiki/%D9%BE%D8%A7%DB%8C%D8%AA%D9%88%D9%86\nhttps://fr.wikipedia.org/wiki/Python\nhttps://ko.wikipedia.org/wiki/%ED%8C%8C%EC%9D%B4%EC%84%A0\nhttps://hr.wikipedia.org/wiki/Python_(razdvojba)\nhttps://io.wikipedia.org/wiki/Pitono\nhttps://id.wikipedia.org/wiki/Python\nhttps://ia.wikipedia.org/wiki/Python_(disambiguation)\nhttps://is.wikipedia.org/wiki/Python_(a%C3%B0greining)\nhttps://it.wikipedia.org/wiki/Python_(disambigua)\nhttps://he.wikipedia.org/wiki/%D7%A4%D7%99%D7%AA%D7%95%D7%9F\nhttps://ka.wikipedia.org/wiki/%E1%83%9E%E1%83%98%E1%83%97%E1%83%9D%E1%83%9C%E1%83%98_(%E1%83%9B%E1%83%A0%E1%83%90%E1%83%95%E1%83%90%E1%83%9A%E1%83%9B%E1%83%9C%E1%83%98%E1%83%A8%E1%83%95%E1%83%9C%E1%83%94%E1%83%9A%E1%83%9D%E1%83%95%E1%83%90%E1%83%9C%E1%83%98)\nhttps://kg.wikipedia.org/wiki/Mboma_(nyoka)\nhttps://la.wikipedia.org/wiki/Python_(discretiva)\nhttps://lb.wikipedia.org/wiki/Python\nhttps://hu.wikipedia.org/wiki/Python_(egy%C3%A9rtelm%C5%B1s%C3%ADt%C5%91_lap)\nhttps://mr.wikipedia.org/wiki/%E0%A4%AA%E0%A4%BE%E0%A4%AF%E0%A4%A5%E0%A5%89%E0%A4%A8_(%E0%A4%86%E0%A4%9C%E0%A5%8D%E0%A4%9E%E0%A4%BE%E0%A4%B5%E0%A4%B2%E0%A5%80_%E0%A4%AD%E0%A4%BE%E0%A4%B7%E0%A4%BE)\nhttps://nl.wikipedia.org/wiki/Python\nhttps://ja.wikipedia.org/wiki/%E3%83%91%E3%82%A4%E3%82%BD%E3%83%B3\nhttps://no.wikipedia.org/wiki/Pyton\nhttps://pl.wikipedia.org/wiki/Pyton\nhttps://pt.wikipedia.org/wiki/Python_(desambigua%C3%A7%C3%A3o)\nhttps://ru.wikipedia.org/wiki/Python_(%D0%B7%D0%BD%D0%B0%D1%87%D0%B5%D0%BD%D0%B8%D1%8F)\nhttps://sd.wikipedia.org/wiki/%D8%A7%D8%B1%DA%99\nhttps://sk.wikipedia.org/wiki/Python\nhttps://sr.wikipedia.org/wiki/%D0%9F%D0%B8%D1%82%D0%BE%D0%BD_(%D0%B2%D0%B8%D1%88%D0%B5%D0%B7%D0%BD%D0%B0%D1%87%D0%BD%D0%B0_%D0%BE%D0%B4%D1%80%D0%B5%D0%B4%D0%BD%D0%B8%D1%86%D0%B0)\nhttps://sh.wikipedia.org/wiki/Python\nhttps://fi.wikipedia.org/wiki/Python\nhttps://sv.wikipedia.org/wiki/Pyton\nhttps://th.wikipedia.org/wiki/%E0%B9%84%E0%B8%9E%E0%B8%97%E0%B8%AD%E0%B8%99\nhttps://tr.wikipedia.org/wiki/Python\nhttps://uk.wikipedia.org/wiki/%D0%9F%D1%96%D1%84%D0%BE%D0%BD\nhttps://ur.wikipedia.org/wiki/%D9%BE%D8%A7%D8%A6%DB%8C%D8%AA%DA%BE%D9%88%D9%86\nhttps://vi.wikipedia.org/wiki/Python\nhttps://zh.wikipedia.org/wiki/Python_(%E6%B6%88%E6%AD%A7%E4%B9%89)\nhttps://www.wikidata.org/wiki/Special:EntityPage/Q747452#sitelinks-wikipedia\nhttps://foundation.wikimedia.org/wiki/Privacy_policy\nhttps://www.mediawiki.org/wiki/Special:MyLanguage/How_to_contribute\nhttps://foundation.wikimedia.org/wiki/Cookie_statement\nhttps://wikimediafoundation.org/\nhttps://www.mediawiki.org/\n"
    }
   ],
   "source": [
    "#your code\n",
    "\n",
    "url4 = 'https://en.wikipedia.org/wiki/Python'\n",
    "res4 = requests.get(url4)\n",
    "html4 = res4.text\n",
    "soup4 = BeautifulSoup(html4, 'html.parser')\n",
    "\n",
    "for link in soup4.find_all('a'):\n",
    "    href = link.get('href')\n",
    "    if href and href[:4] == \"http\":\n",
    "        print(href)"
   ]
  },
  {
   "cell_type": "markdown",
   "metadata": {},
   "source": [
    "#### Number of Titles that have changed in the United States Code since its last release point "
   ]
  },
  {
   "cell_type": "code",
   "execution_count": null,
   "metadata": {},
   "outputs": [],
   "source": [
    "# This is the url you will scrape in this exercise\n",
    "url = 'http://uscode.house.gov/download/download.shtml'"
   ]
  },
  {
   "cell_type": "code",
   "execution_count": 209,
   "metadata": {},
   "outputs": [
    {
     "name": "stdout",
     "output_type": "stream",
     "text": "2\n"
    }
   ],
   "source": [
    "#your code\n",
    "\n",
    "url5 = 'http://uscode.house.gov/download/download.shtml'\n",
    "res5 = requests.get(url5)\n",
    "html5 = res5.text\n",
    "soup5 = BeautifulSoup(html5, 'html.parser')\n",
    "\n",
    "print(len(soup5.select('.usctitlechanged')))"
   ]
  },
  {
   "cell_type": "markdown",
   "metadata": {},
   "source": [
    "#### A Python list with the top ten FBI's Most Wanted names "
   ]
  },
  {
   "cell_type": "code",
   "execution_count": null,
   "metadata": {},
   "outputs": [],
   "source": [
    "# This is the url you will scrape in this exercise\n",
    "url = 'https://www.fbi.gov/wanted/topten'"
   ]
  },
  {
   "cell_type": "code",
   "execution_count": 218,
   "metadata": {},
   "outputs": [
    {
     "name": "stdout",
     "output_type": "stream",
     "text": "['JASON DEREK BROWN', 'ALEXIS FLORES', 'EUGENE PALMER', 'SANTIAGO VILLALBA MEDEROS', 'RAFAEL CARO-QUINTERO', 'ROBERT WILLIAM FISHER', 'BHADRESHKUMAR CHETANBHAI PATEL', 'ARNOLDO JIMENEZ', 'ALEJANDRO ROSALES CASTILLO', 'YASER ABDEL SAID']\n"
    }
   ],
   "source": [
    "#your code \n",
    "\n",
    "url6 = 'https://www.fbi.gov/wanted/topten'\n",
    "res6 = requests.get(url6)\n",
    "html6 = res6.text\n",
    "soup6 = BeautifulSoup(html6, 'html.parser')\n",
    "\n",
    "fbi=soup6.find_all('h3', class_='title')\n",
    "wanted=[]\n",
    "for e in fbi:\n",
    "   wanted.append(e.find('a').text)\n",
    "print(wanted)\n"
   ]
  },
  {
   "cell_type": "markdown",
   "metadata": {},
   "source": [
    "####  20 latest earthquakes info (date, time, latitude, longitude and region name) by the EMSC as a pandas dataframe"
   ]
  },
  {
   "cell_type": "code",
   "execution_count": null,
   "metadata": {},
   "outputs": [],
   "source": [
    "# This is the url you will scrape in this exercise\n",
    "url = 'https://www.emsc-csem.org/Earthquake/'"
   ]
  },
  {
   "cell_type": "code",
   "execution_count": null,
   "metadata": {},
   "outputs": [],
   "source": [
    "#your code\n",
    "\n",
    "\n"
   ]
  },
  {
   "cell_type": "markdown",
   "metadata": {},
   "source": [
    "#### Display the date, days, title, city, country of next 25 hackathon events as a Pandas dataframe table"
   ]
  },
  {
   "cell_type": "code",
   "execution_count": null,
   "metadata": {},
   "outputs": [],
   "source": [
    "# This is the url you will scrape in this exercise\n",
    "url ='https://hackevents.co/hackathons'"
   ]
  },
  {
   "cell_type": "code",
   "execution_count": null,
   "metadata": {},
   "outputs": [],
   "source": [
    "#your code"
   ]
  },
  {
   "cell_type": "markdown",
   "metadata": {},
   "source": [
    "#### Count number of tweets by a given Twitter account."
   ]
  },
  {
   "cell_type": "markdown",
   "metadata": {},
   "source": [
    "You will need to include a ***try/except block*** for account names not found. \n",
    "<br>***Hint:*** the program should count the number of tweets for any provided account"
   ]
  },
  {
   "cell_type": "code",
   "execution_count": null,
   "metadata": {},
   "outputs": [],
   "source": [
    "# This is the url you will scrape in this exercise \n",
    "# You will need to add the account credentials to this url\n",
    "url = 'https://twitter.com/'"
   ]
  },
  {
   "cell_type": "code",
   "execution_count": null,
   "metadata": {},
   "outputs": [],
   "source": [
    "#your code\n",
    "\n",
    "\n"
   ]
  },
  {
   "cell_type": "markdown",
   "metadata": {},
   "source": [
    "#### Number of followers of a given twitter account"
   ]
  },
  {
   "cell_type": "markdown",
   "metadata": {},
   "source": [
    "You will need to include a ***try/except block*** in case account/s name not found. \n",
    "<br>***Hint:*** the program should count the followers for any provided account"
   ]
  },
  {
   "cell_type": "code",
   "execution_count": null,
   "metadata": {},
   "outputs": [],
   "source": [
    "# This is the url you will scrape in this exercise \n",
    "# You will need to add the account credentials to this url\n",
    "url = 'https://twitter.com/'"
   ]
  },
  {
   "cell_type": "code",
   "execution_count": null,
   "metadata": {},
   "outputs": [],
   "source": [
    "#your code"
   ]
  },
  {
   "cell_type": "markdown",
   "metadata": {},
   "source": [
    "#### List all language names and number of related articles in the order they appear in wikipedia.org"
   ]
  },
  {
   "cell_type": "code",
   "execution_count": null,
   "metadata": {},
   "outputs": [],
   "source": [
    "# This is the url you will scrape in this exercise\n",
    "url = 'https://www.wikipedia.org/'"
   ]
  },
  {
   "cell_type": "code",
   "execution_count": null,
   "metadata": {},
   "outputs": [],
   "source": [
    "#your code"
   ]
  },
  {
   "cell_type": "markdown",
   "metadata": {},
   "source": [
    "#### A list with the different kind of datasets available in data.gov.uk "
   ]
  },
  {
   "cell_type": "code",
   "execution_count": null,
   "metadata": {},
   "outputs": [],
   "source": [
    "# This is the url you will scrape in this exercise\n",
    "url = 'https://data.gov.uk/'"
   ]
  },
  {
   "cell_type": "code",
   "execution_count": null,
   "metadata": {},
   "outputs": [],
   "source": [
    "#your code "
   ]
  },
  {
   "cell_type": "markdown",
   "metadata": {},
   "source": [
    "#### Top 10 languages by number of native speakers stored in a Pandas Dataframe"
   ]
  },
  {
   "cell_type": "code",
   "execution_count": null,
   "metadata": {},
   "outputs": [],
   "source": [
    "# This is the url you will scrape in this exercise\n",
    "url = 'https://en.wikipedia.org/wiki/List_of_languages_by_number_of_native_speakers'"
   ]
  },
  {
   "cell_type": "code",
   "execution_count": null,
   "metadata": {},
   "outputs": [],
   "source": [
    "#your code"
   ]
  },
  {
   "cell_type": "markdown",
   "metadata": {},
   "source": [
    "### BONUS QUESTIONS"
   ]
  },
  {
   "cell_type": "markdown",
   "metadata": {},
   "source": [
    "#### Scrape a certain number of tweets of a given Twitter account."
   ]
  },
  {
   "cell_type": "code",
   "execution_count": null,
   "metadata": {},
   "outputs": [],
   "source": [
    "# This is the url you will scrape in this exercise \n",
    "# You will need to add the account credentials to this url\n",
    "url = 'https://twitter.com/'"
   ]
  },
  {
   "cell_type": "code",
   "execution_count": null,
   "metadata": {},
   "outputs": [],
   "source": [
    "# your code"
   ]
  },
  {
   "cell_type": "markdown",
   "metadata": {},
   "source": [
    "#### IMDB's Top 250 data (movie name, Initial release, director name and stars) as a pandas dataframe"
   ]
  },
  {
   "cell_type": "code",
   "execution_count": null,
   "metadata": {},
   "outputs": [],
   "source": [
    "# This is the url you will scrape in this exercise \n",
    "url = 'https://www.imdb.com/chart/top'"
   ]
  },
  {
   "cell_type": "code",
   "execution_count": null,
   "metadata": {},
   "outputs": [],
   "source": [
    "# your code"
   ]
  },
  {
   "cell_type": "markdown",
   "metadata": {},
   "source": [
    "#### Movie name, year and a brief summary of the top 10 random movies (IMDB) as a pandas dataframe."
   ]
  },
  {
   "cell_type": "code",
   "execution_count": null,
   "metadata": {},
   "outputs": [],
   "source": [
    "#This is the url you will scrape in this exercise\n",
    "url = 'http://www.imdb.com/chart/top'"
   ]
  },
  {
   "cell_type": "code",
   "execution_count": null,
   "metadata": {},
   "outputs": [],
   "source": [
    "#your code"
   ]
  },
  {
   "cell_type": "markdown",
   "metadata": {},
   "source": [
    "#### Find the live weather report (temperature, wind speed, description and weather) of a given city."
   ]
  },
  {
   "cell_type": "code",
   "execution_count": null,
   "metadata": {},
   "outputs": [],
   "source": [
    "#https://openweathermap.org/current\n",
    "city = city=input('Enter the city:')\n",
    "url = 'http://api.openweathermap.org/data/2.5/weather?'+'q='+city+'&APPID=b35975e18dc93725acb092f7272cc6b8&units=metric'"
   ]
  },
  {
   "cell_type": "code",
   "execution_count": null,
   "metadata": {},
   "outputs": [],
   "source": [
    "# your code"
   ]
  },
  {
   "cell_type": "markdown",
   "metadata": {},
   "source": [
    "#### Book name,price and stock availability as a pandas dataframe."
   ]
  },
  {
   "cell_type": "code",
   "execution_count": null,
   "metadata": {},
   "outputs": [],
   "source": [
    "# This is the url you will scrape in this exercise. \n",
    "# It is a fictional bookstore created to be scraped. \n",
    "url = 'http://books.toscrape.com/'"
   ]
  },
  {
   "cell_type": "code",
   "execution_count": null,
   "metadata": {},
   "outputs": [],
   "source": [
    "#your code"
   ]
  }
 ],
 "metadata": {
  "kernelspec": {
   "display_name": "Python 3",
   "language": "python",
   "name": "python3"
  },
  "language_info": {
   "codemirror_mode": {
    "name": "ipython",
    "version": 3
   },
   "file_extension": ".py",
   "mimetype": "text/x-python",
   "name": "python",
   "nbconvert_exporter": "python",
   "pygments_lexer": "ipython3",
   "version": "3.7.2"
  }
 },
 "nbformat": 4,
 "nbformat_minor": 2
}