{
 "cells": [
  {
   "cell_type": "markdown",
   "metadata": {},
   "source": [
    "# Before your start:\n",
    "\n",
    "    Read the README.md file\n",
    "    Comment as much as you can and use the resources (README.md file)\n",
    "    Happy learning!"
   ]
  },
  {
   "cell_type": "markdown",
   "metadata": {},
   "source": [
    "In this exercise, we  will generate random numbers from the continuous disributions we learned in the lesson. There are two ways to generate random numbers:\n",
    "\n",
    "1. Using the numpy library \n",
    "1. using the Scipy library \n",
    "\n",
    "Use either or both of the lbraries in this exercise."
   ]
  },
  {
   "cell_type": "markdown",
   "metadata": {},
   "source": [
    "## Uniform Distribution\n",
    "\n",
    "To generate uniform random numbers between any two given values using scipy, we can either use the following code or the code that we have\n",
    "discussed in class:"
   ]
  },
  {
   "cell_type": "code",
   "execution_count": 8,
   "metadata": {},
   "outputs": [
    {
     "name": "stdout",
     "output_type": "stream",
     "text": [
      "[2.94987842 2.37188525 2.44877349 2.24235918 2.80654774 2.76275306\n",
      " 2.04607208 2.1463027  2.88502872 2.69127908]\n"
     ]
    }
   ],
   "source": [
    "from scipy.stats import uniform\n",
    "x = uniform.rvs(size=10)\n",
    "a = 2\n",
    "b = 3\n",
    "randoms  = a + (b-a)*x\n",
    "print(randoms)"
   ]
  },
  {
   "cell_type": "markdown",
   "metadata": {},
   "source": [
    "**Your task:**\n",
    "\n",
    "1. Based on the code above, write a function that generates uniformly distributed random numbers. There are several requirements for your function:\n",
    "    * It should accept 3 parameters: \n",
    "        * `bottom` - the lower boundary of the generated numbers\n",
    "        * `ceiling` - the upper boundary of the generated numbers\n",
    "        * `count` - how many numbers to generate\n",
    "    * It should return an array of uniformly distributed random numbers\n",
    "\n",
    "1. Call your function with 2 sets of params below:\n",
    "    * bottom=10, ceiling=15, count=100\n",
    "    * bottom=10, ceiling=60, count=1,000\n",
    "\n",
    "1. Plot the uniform distributions generated above using histograms, where x axis is the value and y axis is the count. Let the histogram's number of bins be 10.\n",
    "\n",
    "Your output should look like below:\n",
    "\n",
    "![uniform distribution](ud.png)"
   ]
  },
  {
   "cell_type": "code",
   "execution_count": 48,
   "metadata": {},
   "outputs": [
    {
     "data": {
      "text/plain": [
       "(array([15.,  9.,  7.,  9., 13.,  9.,  9., 11.,  4., 14.]),\n",
       " array([10.08747187, 10.56943189, 11.0513919 , 11.53335191, 12.01531192,\n",
       "        12.49727194, 12.97923195, 13.46119196, 13.94315197, 14.42511198,\n",
       "        14.907072  ]),\n",
       " <a list of 10 Patch objects>)"
      ]
     },
     "execution_count": 48,
     "metadata": {},
     "output_type": "execute_result"
    },
    {
     "data": {
      "image/png": "[encoded data removed]",
      "text/plain": [
       "<Figure size 432x288 with 1 Axes>"
      ]
     },
     "metadata": {
      "needs_background": "light"
     },
     "output_type": "display_data"
    }
   ],
   "source": [
    "import matplotlib.pyplot as plt\n",
    "# your code here\n",
    "\n",
    "def generate_random_numbers(bottom,ceiling,count):\n",
    "    x = uniform.rvs(size=count)\n",
    "    a = bottom\n",
    "    b = ceiling\n",
    "    randoms  = a + (b-a)*x\n",
    "    return randoms\n",
    "plt.hist(generate_random_numbers(bottom=10, ceiling=15, count=100))"
   ]
  },
  {
   "cell_type": "code",
   "execution_count": 49,
   "metadata": {},
   "outputs": [
    {
     "data": {
      "text/plain": [
       "(array([115.,  79., 108.,  98., 108.,  98., 108.,  81.,  94., 111.]),\n",
       " array([10.00098747, 14.99623893, 19.99149038, 24.98674183, 29.98199329,\n",
       "        34.97724474, 39.97249619, 44.96774765, 49.9629991 , 54.95825055,\n",
       "        59.95350201]),\n",
       " <a list of 10 Patch objects>)"
      ]
     },
     "execution_count": 49,
     "metadata": {},
     "output_type": "execute_result"
    },
    {
     "data": {
      "image/png": "[encoded data removed]",
      "text/plain": [
       "<Figure size 432x288 with 1 Axes>"
      ]
     },
     "metadata": {
      "needs_background": "light"
     },
     "output_type": "display_data"
    }
   ],
   "source": [
    "plt.hist(generate_random_numbers(bottom=10, ceiling=60, count=1000))"
   ]
  },
  {
   "cell_type": "markdown",
   "metadata": {},
   "source": [
    "How are the two distributions different?"
   ]
  },
  {
   "cell_type": "code",
   "execution_count": null,
   "metadata": {},
   "outputs": [],
   "source": [
    "# your answer below\n",
    "'''\n",
    "La que tiene más cantidad de valores tiende a a que el grafico este mas equilibrado, en cambio \n",
    "en la que tiene menos valores podemos ver algun rango con pocos valores y otros con muchos.\n",
    "'''"
   ]
  },
  {
   "cell_type": "markdown",
   "metadata": {},
   "source": [
    "## Normal Distribution\n",
    "\n",
    "1. In the same way in the Uniform Distribution challenge, write a function that generates normally distributed random numbers.\n",
    "1. Generate 1,000 normally distributed numbers with the average of 10 and standard deviation of 1\n",
    "1. Generate 1,000 normally distributed numbers with the average of 10 and standard deviation of 50\n",
    "2. Plot the distributions of the data generated.\n",
    "\n",
    "Expected output:\n",
    "\n",
    "![normal distribution](nd.png)"
   ]
  },
  {
   "cell_type": "code",
   "execution_count": 128,
   "metadata": {},
   "outputs": [
    {
     "data": {
      "text/plain": [
       "(array([ 1.,  0.,  0.,  0.,  0.,  1.,  0.,  2.,  0.,  4.,  0.,  1.,  0.,\n",
       "         4.,  9.,  3.,  4.,  3.,  5.,  3.,  2.,  5.,  5.,  8.,  7., 12.,\n",
       "        14.,  7., 14., 15., 20., 14., 11., 15., 21., 22., 18., 22., 23.,\n",
       "        33., 22., 27., 13., 23., 25., 29., 23., 17., 29., 20., 27., 23.,\n",
       "        22., 21., 26., 28., 24., 18., 21., 18., 18., 18., 20., 10., 21.,\n",
       "        10., 16.,  9., 12., 15.,  9.,  8.,  6.,  8.,  9.,  2.,  1.,  1.,\n",
       "         3.,  2.,  1.,  0.,  3.,  1.,  1.,  3.,  2.,  0.,  2.,  1.,  0.,\n",
       "         0.,  1.,  0.,  0.,  2.,  0.,  0.,  0.,  1.]),\n",
       " array([ 7.00759731,  7.07065781,  7.13371832,  7.19677882,  7.25983933,\n",
       "         7.32289983,  7.38596034,  7.44902085,  7.51208135,  7.57514186,\n",
       "         7.63820236,  7.70126287,  7.76432337,  7.82738388,  7.89044438,\n",
       "         7.95350489,  8.01656539,  8.0796259 ,  8.1426864 ,  8.20574691,\n",
       "         8.26880741,  8.33186792,  8.39492842,  8.45798893,  8.52104943,\n",
       "         8.58410994,  8.64717045,  8.71023095,  8.77329146,  8.83635196,\n",
       "         8.89941247,  8.96247297,  9.02553348,  9.08859398,  9.15165449,\n",
       "         9.21471499,  9.2777755 ,  9.340836  ,  9.40389651,  9.46695701,\n",
       "         9.53001752,  9.59307802,  9.65613853,  9.71919904,  9.78225954,\n",
       "         9.84532005,  9.90838055,  9.97144106, 10.03450156, 10.09756207,\n",
       "        10.16062257, 10.22368308, 10.28674358, 10.34980409, 10.41286459,\n",
       "        10.4759251 , 10.5389856 , 10.60204611, 10.66510661, 10.72816712,\n",
       "        10.79122762, 10.85428813, 10.91734864, 10.98040914, 11.04346965,\n",
       "        11.10653015, 11.16959066, 11.23265116, 11.29571167, 11.35877217,\n",
       "        11.42183268, 11.48489318, 11.54795369, 11.61101419, 11.6740747 ,\n",
       "        11.7371352 , 11.80019571, 11.86325621, 11.92631672, 11.98937722,\n",
       "        12.05243773, 12.11549824, 12.17855874, 12.24161925, 12.30467975,\n",
       "        12.36774026, 12.43080076, 12.49386127, 12.55692177, 12.61998228,\n",
       "        12.68304278, 12.74610329, 12.80916379, 12.8722243 , 12.9352848 ,\n",
       "        12.99834531, 13.06140581, 13.12446632, 13.18752683, 13.25058733,\n",
       "        13.31364784]),\n",
       " <a list of 100 Patch objects>)"
      ]
     },
     "execution_count": 128,
     "metadata": {},
     "output_type": "execute_result"
    },
    {
     "data": {
      "image/png": "[encoded data removed]",
      "text/plain": [
       "<Figure size 432x288 with 1 Axes>"
      ]
     },
     "metadata": {
      "needs_background": "light"
     },
     "output_type": "display_data"
    }
   ],
   "source": [
    "# your code here\n",
    "from scipy.stats import norm\n",
    "import numpy as np\n",
    "def generate_random_norm_numbers(mu,sigma,count=1000):\n",
    "    normal_randoms = np.random.normal(mu, sigma,count)\n",
    "    return normal_randoms\n",
    "plt.hist(generate_random_norm_numbers(10,1),bins=100)"
   ]
  },
  {
   "cell_type": "code",
   "execution_count": 129,
   "metadata": {},
   "outputs": [
    {
     "data": {
      "text/plain": [
       "(array([ 1.,  0.,  0.,  0.,  0.,  0.,  0.,  0.,  0.,  0.,  0.,  0.,  0.,\n",
       "         1.,  0.,  0.,  0.,  1.,  2.,  2.,  3.,  1.,  3.,  2.,  2.,  6.,\n",
       "         8.,  6., 10.,  5.,  7., 12.,  8., 11., 16., 13., 17., 11., 20.,\n",
       "        17., 24., 22., 20., 22., 19., 19., 25., 21., 27., 27., 19., 28.,\n",
       "        40., 26., 27., 29., 25., 31., 25., 20., 21., 15., 37., 26., 23.,\n",
       "        15., 19., 17., 10., 18., 15., 12., 14.,  9., 13.,  7., 10.,  6.,\n",
       "         5.,  4.,  3.,  2.,  4.,  1.,  1.,  1.,  1.,  3.,  1.,  2.,  2.,\n",
       "         0.,  0.,  1.,  0.,  0.,  0.,  0.,  0.,  1.]),\n",
       " array([-182.11584958, -178.50697825, -174.89810692, -171.28923559,\n",
       "        -167.68036426, -164.07149294, -160.46262161, -156.85375028,\n",
       "        -153.24487895, -149.63600762, -146.0271363 , -142.41826497,\n",
       "        -138.80939364, -135.20052231, -131.59165098, -127.98277966,\n",
       "        -124.37390833, -120.765037  , -117.15616567, -113.54729434,\n",
       "        -109.93842302, -106.32955169, -102.72068036,  -99.11180903,\n",
       "         -95.5029377 ,  -91.89406638,  -88.28519505,  -84.67632372,\n",
       "         -81.06745239,  -77.45858106,  -73.84970974,  -70.24083841,\n",
       "         -66.63196708,  -63.02309575,  -59.41422442,  -55.8053531 ,\n",
       "         -52.19648177,  -48.58761044,  -44.97873911,  -41.36986778,\n",
       "         -37.76099646,  -34.15212513,  -30.5432538 ,  -26.93438247,\n",
       "         -23.32551114,  -19.71663981,  -16.10776849,  -12.49889716,\n",
       "          -8.89002583,   -5.2811545 ,   -1.67228317,    1.93658815,\n",
       "           5.54545948,    9.15433081,   12.76320214,   16.37207347,\n",
       "          19.98094479,   23.58981612,   27.19868745,   30.80755878,\n",
       "          34.41643011,   38.02530143,   41.63417276,   45.24304409,\n",
       "          48.85191542,   52.46078675,   56.06965807,   59.6785294 ,\n",
       "          63.28740073,   66.89627206,   70.50514339,   74.11401471,\n",
       "          77.72288604,   81.33175737,   84.9406287 ,   88.54950003,\n",
       "          92.15837135,   95.76724268,   99.37611401,  102.98498534,\n",
       "         106.59385667,  110.20272799,  113.81159932,  117.42047065,\n",
       "         121.02934198,  124.63821331,  128.24708463,  131.85595596,\n",
       "         135.46482729,  139.07369862,  142.68256995,  146.29144128,\n",
       "         149.9003126 ,  153.50918393,  157.11805526,  160.72692659,\n",
       "         164.33579792,  167.94466924,  171.55354057,  175.1624119 ,\n",
       "         178.77128323]),\n",
       " <a list of 100 Patch objects>)"
      ]
     },
     "execution_count": 129,
     "metadata": {},
     "output_type": "execute_result"
    },
    {
     "data": {
      "image/png": "[encoded data removed]",
      "text/plain": [
       "<Figure size 432x288 with 1 Axes>"
      ]
     },
     "metadata": {
      "needs_background": "light"
     },
     "output_type": "display_data"
    }
   ],
   "source": [
    "plt.hist(generate_random_norm_numbers(10,50),bins=100)"
   ]
  },
  {
   "cell_type": "markdown",
   "metadata": {},
   "source": [
    "How are the two distributions different?"
   ]
  },
  {
   "cell_type": "code",
   "execution_count": null,
   "metadata": {},
   "outputs": [],
   "source": [
    "# your answer below\n",
    "'''\n",
    "Son bastante similares ambas gráficas.\n",
    "'''"
   ]
  },
  {
   "cell_type": "markdown",
   "metadata": {},
   "source": [
    "## Normal Distribution of Real Data\n",
    "\n",
    "In this challenge we are going to take a look the real data. We will use vehicles.csv file for this exercise"
   ]
  },
  {
   "cell_type": "markdown",
   "metadata": {},
   "source": [
    "First import vehicles.csv.\n",
    "Then plot the histograms for the following variables:\n",
    "\n",
    "1. Fuel Barrels/Year"
   ]
  },
  {
   "cell_type": "code",
   "execution_count": 130,
   "metadata": {},
   "outputs": [
    {
     "data": {
      "text/plain": [
       "(array([6.000e+01, 0.000e+00, 0.000e+00, 3.000e+00, 2.000e+00, 0.000e+00,\n",
       "        3.000e+00, 5.000e+00, 4.000e+00, 4.000e+00, 1.000e+01, 0.000e+00,\n",
       "        4.000e+00, 2.100e+01, 1.900e+01, 2.300e+01, 8.100e+01, 7.900e+01,\n",
       "        4.600e+01, 9.100e+01, 1.060e+02, 3.150e+02, 2.620e+02, 4.430e+02,\n",
       "        1.078e+03, 6.760e+02, 1.048e+03, 1.257e+03, 2.700e+01, 1.553e+03,\n",
       "        1.762e+03, 2.258e+03, 2.800e+01, 3.139e+03, 3.061e+03, 3.100e+01,\n",
       "        3.231e+03, 0.000e+00, 3.529e+03, 0.000e+00, 3.100e+01, 2.277e+03,\n",
       "        7.900e+01, 2.226e+03, 0.000e+00, 6.500e+01, 2.210e+03, 1.380e+02,\n",
       "        0.000e+00, 1.940e+03, 8.600e+01, 0.000e+00, 0.000e+00, 1.245e+03,\n",
       "        3.000e+01, 0.000e+00, 0.000e+00, 5.000e+00, 7.300e+02, 0.000e+00,\n",
       "        0.000e+00, 0.000e+00, 0.000e+00, 4.390e+02, 0.000e+00, 0.000e+00,\n",
       "        0.000e+00, 0.000e+00, 0.000e+00, 1.300e+02, 0.000e+00, 0.000e+00,\n",
       "        0.000e+00, 0.000e+00, 0.000e+00, 0.000e+00, 0.000e+00, 3.600e+01,\n",
       "        0.000e+00, 0.000e+00, 0.000e+00, 0.000e+00, 0.000e+00, 0.000e+00,\n",
       "        0.000e+00, 0.000e+00, 0.000e+00, 2.100e+01, 0.000e+00, 0.000e+00,\n",
       "        0.000e+00, 0.000e+00, 0.000e+00, 0.000e+00, 0.000e+00, 0.000e+00,\n",
       "        0.000e+00, 0.000e+00, 0.000e+00, 5.000e+00]),\n",
       " array([ 0.06      ,  0.53027143,  1.00054286,  1.47081429,  1.94108571,\n",
       "         2.41135714,  2.88162857,  3.3519    ,  3.82217143,  4.29244286,\n",
       "         4.76271429,  5.23298571,  5.70325714,  6.17352857,  6.6438    ,\n",
       "         7.11407143,  7.58434286,  8.05461429,  8.52488571,  8.99515714,\n",
       "         9.46542857,  9.9357    , 10.40597143, 10.87624286, 11.34651429,\n",
       "        11.81678571, 12.28705714, 12.75732857, 13.2276    , 13.69787143,\n",
       "        14.16814286, 14.63841429, 15.10868571, 15.57895714, 16.04922857,\n",
       "        16.5195    , 16.98977143, 17.46004286, 17.93031429, 18.40058571,\n",
       "        18.87085714, 19.34112857, 19.8114    , 20.28167143, 20.75194286,\n",
       "        21.22221429, 21.69248571, 22.16275714, 22.63302857, 23.1033    ,\n",
       "        23.57357143, 24.04384286, 24.51411429, 24.98438571, 25.45465714,\n",
       "        25.92492857, 26.3952    , 26.86547143, 27.33574286, 27.80601429,\n",
       "        28.27628571, 28.74655714, 29.21682857, 29.6871    , 30.15737143,\n",
       "        30.62764286, 31.09791429, 31.56818571, 32.03845714, 32.50872857,\n",
       "        32.979     , 33.44927143, 33.91954286, 34.38981429, 34.86008571,\n",
       "        35.33035714, 35.80062857, 36.2709    , 36.74117143, 37.21144286,\n",
       "        37.68171429, 38.15198571, 38.62225714, 39.09252857, 39.5628    ,\n",
       "        40.03307143, 40.50334286, 40.97361429, 41.44388571, 41.91415714,\n",
       "        42.38442857, 42.8547    , 43.32497143, 43.79524286, 44.26551429,\n",
       "        44.73578571, 45.20605714, 45.67632857, 46.1466    , 46.61687143,\n",
       "        47.08714286]),\n",
       " <a list of 100 Patch objects>)"
      ]
     },
     "execution_count": 130,
     "metadata": {},
     "output_type": "execute_result"
    },
    {
     "data": {
      "image/png": "[encoded data removed]",
      "text/plain": [
       "<Figure size 432x288 with 1 Axes>"
      ]
     },
     "metadata": {
      "needs_background": "light"
     },
     "output_type": "display_data"
    }
   ],
   "source": [
    "# your code here\n",
    "import pandas as pd\n",
    "df = pd.read_csv(\"./vehicles.csv\")\n",
    "\n",
    "plt.hist(df['Fuel Barrels/Year'],bins=100)"
   ]
  },
  {
   "cell_type": "markdown",
   "metadata": {},
   "source": [
    "2. CO2 Emission Grams/Mile "
   ]
  },
  {
   "cell_type": "code",
   "execution_count": 131,
   "metadata": {},
   "outputs": [
    {
     "data": {
      "text/plain": [
       "(array([3.000e+00, 2.000e+00, 0.000e+00, 4.000e+00, 4.000e+00, 3.000e+00,\n",
       "        1.000e+00, 1.300e+01, 1.000e+00, 3.000e+00, 1.000e+01, 1.400e+01,\n",
       "        3.000e+01, 2.400e+01, 7.100e+01, 8.800e+01, 4.500e+01, 1.030e+02,\n",
       "        2.490e+02, 1.980e+02, 3.320e+02, 7.290e+02, 6.700e+02, 6.790e+02,\n",
       "        1.012e+03, 1.207e+03, 2.500e+02, 1.547e+03, 1.684e+03, 2.095e+03,\n",
       "        3.310e+02, 2.933e+03, 2.300e+02, 2.915e+03, 3.012e+03, 2.200e+02,\n",
       "        2.330e+02, 3.266e+03, 1.140e+02, 2.157e+03, 1.560e+02, 8.900e+01,\n",
       "        2.157e+03, 5.700e+01, 7.100e+01, 2.205e+03, 7.700e+01, 6.900e+01,\n",
       "        1.925e+03, 1.900e+01, 6.000e+00, 3.000e+01, 1.210e+03, 1.500e+01,\n",
       "        1.500e+01, 2.200e+01, 2.000e+00, 7.070e+02, 3.000e+00, 0.000e+00,\n",
       "        4.000e+00, 2.000e+00, 4.370e+02, 0.000e+00, 0.000e+00, 3.000e+00,\n",
       "        0.000e+00, 0.000e+00, 0.000e+00, 1.270e+02, 0.000e+00, 0.000e+00,\n",
       "        0.000e+00, 0.000e+00, 0.000e+00, 0.000e+00, 0.000e+00, 3.600e+01,\n",
       "        0.000e+00, 0.000e+00, 0.000e+00, 0.000e+00, 0.000e+00, 0.000e+00,\n",
       "        0.000e+00, 0.000e+00, 0.000e+00, 2.100e+01, 0.000e+00, 0.000e+00,\n",
       "        0.000e+00, 0.000e+00, 0.000e+00, 0.000e+00, 0.000e+00, 0.000e+00,\n",
       "        0.000e+00, 0.000e+00, 0.000e+00, 5.000e+00]),\n",
       " array([  37.        ,   49.32571429,   61.65142857,   73.97714286,\n",
       "          86.30285714,   98.62857143,  110.95428571,  123.28      ,\n",
       "         135.60571429,  147.93142857,  160.25714286,  172.58285714,\n",
       "         184.90857143,  197.23428571,  209.56      ,  221.88571429,\n",
       "         234.21142857,  246.53714286,  258.86285714,  271.18857143,\n",
       "         283.51428571,  295.84      ,  308.16571429,  320.49142857,\n",
       "         332.81714286,  345.14285714,  357.46857143,  369.79428571,\n",
       "         382.12      ,  394.44571429,  406.77142857,  419.09714286,\n",
       "         431.42285714,  443.74857143,  456.07428571,  468.4       ,\n",
       "         480.72571429,  493.05142857,  505.37714286,  517.70285714,\n",
       "         530.02857143,  542.35428571,  554.68      ,  567.00571429,\n",
       "         579.33142857,  591.65714286,  603.98285714,  616.30857143,\n",
       "         628.63428571,  640.96      ,  653.28571429,  665.61142857,\n",
       "         677.93714286,  690.26285714,  702.58857143,  714.91428571,\n",
       "         727.24      ,  739.56571429,  751.89142857,  764.21714286,\n",
       "         776.54285714,  788.86857143,  801.19428571,  813.52      ,\n",
       "         825.84571429,  838.17142857,  850.49714286,  862.82285714,\n",
       "         875.14857143,  887.47428571,  899.8       ,  912.12571429,\n",
       "         924.45142857,  936.77714286,  949.10285714,  961.42857143,\n",
       "         973.75428571,  986.08      ,  998.40571429, 1010.73142857,\n",
       "        1023.05714286, 1035.38285714, 1047.70857143, 1060.03428571,\n",
       "        1072.36      , 1084.68571429, 1097.01142857, 1109.33714286,\n",
       "        1121.66285714, 1133.98857143, 1146.31428571, 1158.64      ,\n",
       "        1170.96571429, 1183.29142857, 1195.61714286, 1207.94285714,\n",
       "        1220.26857143, 1232.59428571, 1244.92      , 1257.24571429,\n",
       "        1269.57142857]),\n",
       " <a list of 100 Patch objects>)"
      ]
     },
     "execution_count": 131,
     "metadata": {},
     "output_type": "execute_result"
    },
    {
     "data": {
      "image/png": "[encoded data removed]",
      "text/plain": [
       "<Figure size 432x288 with 1 Axes>"
      ]
     },
     "metadata": {
      "needs_background": "light"
     },
     "output_type": "display_data"
    }
   ],
   "source": [
    "# your code here\n",
    "plt.hist(df['CO2 Emission Grams/Mile'],bins=100)"
   ]
  },
  {
   "cell_type": "markdown",
   "metadata": {},
   "source": [
    "3. Combined MPG"
   ]
  },
  {
   "cell_type": "code",
   "execution_count": 132,
   "metadata": {},
   "outputs": [
    {
     "data": {
      "text/plain": [
       "(array([5.000e+00, 0.000e+00, 2.100e+01, 0.000e+00, 4.000e+01, 0.000e+00,\n",
       "        1.310e+02, 0.000e+00, 4.410e+02, 0.000e+00, 7.410e+02, 0.000e+00,\n",
       "        1.255e+03, 0.000e+00, 1.947e+03, 0.000e+00, 2.241e+03, 0.000e+00,\n",
       "        2.315e+03, 0.000e+00, 2.420e+03, 0.000e+00, 3.559e+03, 0.000e+00,\n",
       "        3.282e+03, 0.000e+00, 3.093e+03, 0.000e+00, 3.158e+03, 0.000e+00,\n",
       "        2.247e+03, 0.000e+00, 1.794e+03, 0.000e+00, 1.546e+03, 0.000e+00,\n",
       "        1.278e+03, 0.000e+00, 1.067e+03, 0.000e+00, 6.920e+02, 0.000e+00,\n",
       "        6.390e+02, 0.000e+00, 4.530e+02, 0.000e+00, 3.710e+02, 0.000e+00,\n",
       "        2.610e+02, 0.000e+00, 0.000e+00, 1.690e+02, 0.000e+00, 1.760e+02,\n",
       "        0.000e+00, 1.620e+02, 0.000e+00, 7.100e+01, 0.000e+00, 5.800e+01,\n",
       "        0.000e+00, 4.100e+01, 0.000e+00, 4.300e+01, 0.000e+00, 2.300e+01,\n",
       "        0.000e+00, 6.500e+01, 0.000e+00, 3.800e+01, 0.000e+00, 3.700e+01,\n",
       "        0.000e+00, 7.000e+00, 0.000e+00, 5.000e+00, 0.000e+00, 5.000e+00,\n",
       "        0.000e+00, 1.100e+01, 0.000e+00, 1.600e+01, 0.000e+00, 2.000e+00,\n",
       "        0.000e+00, 0.000e+00, 0.000e+00, 1.500e+01, 0.000e+00, 0.000e+00,\n",
       "        0.000e+00, 5.000e+00, 0.000e+00, 4.000e+00, 0.000e+00, 0.000e+00,\n",
       "        0.000e+00, 0.000e+00, 0.000e+00, 2.000e+00]),\n",
       " array([ 7.  ,  7.49,  7.98,  8.47,  8.96,  9.45,  9.94, 10.43, 10.92,\n",
       "        11.41, 11.9 , 12.39, 12.88, 13.37, 13.86, 14.35, 14.84, 15.33,\n",
       "        15.82, 16.31, 16.8 , 17.29, 17.78, 18.27, 18.76, 19.25, 19.74,\n",
       "        20.23, 20.72, 21.21, 21.7 , 22.19, 22.68, 23.17, 23.66, 24.15,\n",
       "        24.64, 25.13, 25.62, 26.11, 26.6 , 27.09, 27.58, 28.07, 28.56,\n",
       "        29.05, 29.54, 30.03, 30.52, 31.01, 31.5 , 31.99, 32.48, 32.97,\n",
       "        33.46, 33.95, 34.44, 34.93, 35.42, 35.91, 36.4 , 36.89, 37.38,\n",
       "        37.87, 38.36, 38.85, 39.34, 39.83, 40.32, 40.81, 41.3 , 41.79,\n",
       "        42.28, 42.77, 43.26, 43.75, 44.24, 44.73, 45.22, 45.71, 46.2 ,\n",
       "        46.69, 47.18, 47.67, 48.16, 48.65, 49.14, 49.63, 50.12, 50.61,\n",
       "        51.1 , 51.59, 52.08, 52.57, 53.06, 53.55, 54.04, 54.53, 55.02,\n",
       "        55.51, 56.  ]),\n",
       " <a list of 100 Patch objects>)"
      ]
     },
     "execution_count": 132,
     "metadata": {},
     "output_type": "execute_result"
    },
    {
     "data": {
      "image/png": "[encoded data removed]",
      "text/plain": [
       "<Figure size 432x288 with 1 Axes>"
      ]
     },
     "metadata": {
      "needs_background": "light"
     },
     "output_type": "display_data"
    }
   ],
   "source": [
    "# your code here\n",
    "plt.hist(df['Combined MPG'],bins=100)"
   ]
  },
  {
   "cell_type": "markdown",
   "metadata": {},
   "source": [
    "Which one(s) of the variables are nearly normally distributed? How do you know?"
   ]
  },
  {
   "cell_type": "code",
   "execution_count": null,
   "metadata": {},
   "outputs": [],
   "source": [
    "# your answer here\n",
    "'''\n",
    "Parece que Combined MPG es la que tiende a una distribución normal ya que la región con mas valores coincide con\n",
    "el centro del valor muestral, en este caso 20.\n",
    "'''"
   ]
  },
  {
   "cell_type": "markdown",
   "metadata": {},
   "source": [
    "## Exponential Distribution"
   ]
  },
  {
   "cell_type": "markdown",
   "metadata": {},
   "source": [
    "1. Using `numpy.random.exponential`, create a function that returns a list of numbers exponentially distributed with the mean of 10. \n",
    "\n",
    "1. Use the function to generate two number sequences with the size of 10 and 100.\n",
    "\n",
    "1. Plot the distributions as histograms with the nubmer of bins as 100.\n",
    "\n",
    "Your output should look like below:\n",
    "\n",
    "![exponential distribution](ed.png)"
   ]
  },
  {
   "cell_type": "code",
   "execution_count": 158,
   "metadata": {},
   "outputs": [
    {
     "data": {
      "text/plain": [
       "(array([2., 0., 1., 0., 0., 0., 0., 0., 0., 0., 0., 0., 0., 0., 0., 0., 0.,\n",
       "        0., 0., 1., 1., 1., 0., 0., 0., 0., 0., 1., 0., 0., 0., 0., 1., 0.,\n",
       "        0., 0., 0., 0., 0., 0., 0., 0., 0., 0., 0., 0., 0., 0., 0., 0., 0.,\n",
       "        0., 0., 0., 0., 0., 0., 0., 0., 0., 0., 1., 0., 0., 0., 0., 0., 0.,\n",
       "        0., 0., 0., 0., 0., 0., 0., 0., 0., 0., 0., 0., 0., 0., 0., 0., 0.,\n",
       "        0., 0., 0., 0., 0., 0., 0., 0., 0., 0., 0., 0., 0., 0., 1.]),\n",
       " array([0.02415375, 0.06377612, 0.10339848, 0.14302084, 0.1826432 ,\n",
       "        0.22226556, 0.26188792, 0.30151028, 0.34113265, 0.38075501,\n",
       "        0.42037737, 0.45999973, 0.49962209, 0.53924445, 0.57886681,\n",
       "        0.61848918, 0.65811154, 0.6977339 , 0.73735626, 0.77697862,\n",
       "        0.81660098, 0.85622334, 0.8958457 , 0.93546807, 0.97509043,\n",
       "        1.01471279, 1.05433515, 1.09395751, 1.13357987, 1.17320223,\n",
       "        1.2128246 , 1.25244696, 1.29206932, 1.33169168, 1.37131404,\n",
       "        1.4109364 , 1.45055876, 1.49018113, 1.52980349, 1.56942585,\n",
       "        1.60904821, 1.64867057, 1.68829293, 1.72791529, 1.76753765,\n",
       "        1.80716002, 1.84678238, 1.88640474, 1.9260271 , 1.96564946,\n",
       "        2.00527182, 2.04489418, 2.08451655, 2.12413891, 2.16376127,\n",
       "        2.20338363, 2.24300599, 2.28262835, 2.32225071, 2.36187308,\n",
       "        2.40149544, 2.4411178 , 2.48074016, 2.52036252, 2.55998488,\n",
       "        2.59960724, 2.6392296 , 2.67885197, 2.71847433, 2.75809669,\n",
       "        2.79771905, 2.83734141, 2.87696377, 2.91658613, 2.9562085 ,\n",
       "        2.99583086, 3.03545322, 3.07507558, 3.11469794, 3.1543203 ,\n",
       "        3.19394266, 3.23356503, 3.27318739, 3.31280975, 3.35243211,\n",
       "        3.39205447, 3.43167683, 3.47129919, 3.51092155, 3.55054392,\n",
       "        3.59016628, 3.62978864, 3.669411  , 3.70903336, 3.74865572,\n",
       "        3.78827808, 3.82790045, 3.86752281, 3.90714517, 3.94676753,\n",
       "        3.98638989]),\n",
       " <a list of 100 Patch objects>)"
      ]
     },
     "execution_count": 158,
     "metadata": {},
     "output_type": "execute_result"
    },
    {
     "data": {
      "image/png": "[encoded data removed]",
      "text/plain": [
       "<Figure size 432x288 with 1 Axes>"
      ]
     },
     "metadata": {
      "needs_background": "light"
     },
     "output_type": "display_data"
    }
   ],
   "source": [
    "# your code here\n",
    "from scipy.stats import expon\n",
    "def generate_random_exp_numbers(size):\n",
    "    expon_randoms = expon.rvs(scale=1,loc=0,size=size)\n",
    "    return expon_randoms \n",
    "plt.hist(generate_random_exp_numbers(10),bins=100)"
   ]
  },
  {
   "cell_type": "code",
   "execution_count": 159,
   "metadata": {},
   "outputs": [
    {
     "data": {
      "text/plain": [
       "(array([2., 9., 3., 5., 3., 1., 5., 7., 5., 7., 1., 1., 2., 1., 8., 1., 2.,\n",
       "        1., 2., 1., 2., 4., 3., 1., 0., 1., 3., 1., 1., 1., 1., 0., 2., 0.,\n",
       "        2., 1., 1., 0., 1., 0., 0., 0., 0., 0., 1., 0., 0., 0., 0., 0., 0.,\n",
       "        0., 1., 0., 0., 0., 0., 0., 0., 0., 0., 2., 0., 0., 0., 0., 0., 0.,\n",
       "        0., 0., 0., 0., 0., 0., 0., 1., 0., 0., 0., 0., 1., 0., 0., 0., 0.,\n",
       "        0., 0., 0., 0., 0., 1., 0., 0., 0., 0., 0., 0., 0., 0., 1.]),\n",
       " array([0.01441679, 0.07322256, 0.13202834, 0.19083411, 0.24963989,\n",
       "        0.30844566, 0.36725144, 0.42605721, 0.48486299, 0.54366876,\n",
       "        0.60247454, 0.66128031, 0.72008609, 0.77889186, 0.83769764,\n",
       "        0.89650341, 0.95530919, 1.01411496, 1.07292074, 1.13172651,\n",
       "        1.19053229, 1.24933806, 1.30814384, 1.36694961, 1.42575539,\n",
       "        1.48456116, 1.54336694, 1.60217271, 1.66097849, 1.71978426,\n",
       "        1.77859003, 1.83739581, 1.89620158, 1.95500736, 2.01381313,\n",
       "        2.07261891, 2.13142468, 2.19023046, 2.24903623, 2.30784201,\n",
       "        2.36664778, 2.42545356, 2.48425933, 2.54306511, 2.60187088,\n",
       "        2.66067666, 2.71948243, 2.77828821, 2.83709398, 2.89589976,\n",
       "        2.95470553, 3.01351131, 3.07231708, 3.13112286, 3.18992863,\n",
       "        3.24873441, 3.30754018, 3.36634595, 3.42515173, 3.4839575 ,\n",
       "        3.54276328, 3.60156905, 3.66037483, 3.7191806 , 3.77798638,\n",
       "        3.83679215, 3.89559793, 3.9544037 , 4.01320948, 4.07201525,\n",
       "        4.13082103, 4.1896268 , 4.24843258, 4.30723835, 4.36604413,\n",
       "        4.4248499 , 4.48365568, 4.54246145, 4.60126723, 4.660073  ,\n",
       "        4.71887878, 4.77768455, 4.83649033, 4.8952961 , 4.95410188,\n",
       "        5.01290765, 5.07171342, 5.1305192 , 5.18932497, 5.24813075,\n",
       "        5.30693652, 5.3657423 , 5.42454807, 5.48335385, 5.54215962,\n",
       "        5.6009654 , 5.65977117, 5.71857695, 5.77738272, 5.8361885 ,\n",
       "        5.89499427]),\n",
       " <a list of 100 Patch objects>)"
      ]
     },
     "execution_count": 159,
     "metadata": {},
     "output_type": "execute_result"
    },
    {
     "data": {
      "image/png": "[encoded data removed]",
      "text/plain": [
       "<Figure size 432x288 with 1 Axes>"
      ]
     },
     "metadata": {
      "needs_background": "light"
     },
     "output_type": "display_data"
    }
   ],
   "source": [
    "plt.hist(generate_random_exp_numbers(100),bins=100)"
   ]
  },
  {
   "cell_type": "markdown",
   "metadata": {},
   "source": [
    "How are the two distributions different?"
   ]
  },
  {
   "cell_type": "code",
   "execution_count": 70,
   "metadata": {},
   "outputs": [],
   "source": [
    "# your answer here\n",
    "'''\n",
    "Vemos que cuanto mayor sea el número de valores más se acerca a la exponencial pura.\n",
    "'''"
   ]
  },
  {
   "cell_type": "markdown",
   "metadata": {},
   "source": [
    "## Exponential Distribution of Real Data\n",
    "\n",
    "Suppose that the amount of time one spends in a bank is exponentially distributed with mean as 10 minutes (i.e. λ = 1/10). What is the probability that a customer will spend less than fifteen minutes in the bank? \n",
    "\n",
    "Write a code in python to solve this problem"
   ]
  },
  {
   "cell_type": "code",
   "execution_count": null,
   "metadata": {},
   "outputs": [],
   "source": [
    "# your answer here\n",
    "# Hint: This is same as saying P(x<15)\n",
    "\n",
    "\n"
   ]
  },
  {
   "cell_type": "markdown",
   "metadata": {},
   "source": [
    "What is the probability that the customer will spend more than 15 minutes"
   ]
  },
  {
   "cell_type": "code",
   "execution_count": null,
   "metadata": {},
   "outputs": [],
   "source": [
    "# your answer here"
   ]
  },
  {
   "cell_type": "code",
   "execution_count": null,
   "metadata": {},
   "outputs": [],
   "source": []
  }
 ],
 "metadata": {
  "kernelspec": {
   "display_name": "Python 3",
   "language": "python",
   "name": "python3"
  },
  "language_info": {
   "codemirror_mode": {
    "name": "ipython",
    "version": 3
   },
   "file_extension": ".py",
   "mimetype": "text/x-python",
   "name": "python",
   "nbconvert_exporter": "python",
   "pygments_lexer": "ipython3",
   "version": "3.6.8"
  }
 },
 "nbformat": 4,
 "nbformat_minor": 2
}
